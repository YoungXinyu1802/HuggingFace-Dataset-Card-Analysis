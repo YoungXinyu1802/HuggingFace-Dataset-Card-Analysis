{
 "cells": [
  {
   "attachments": {},
   "cell_type": "markdown",
   "metadata": {},
   "source": [
    "# Dataset Card Analysis"
   ]
  },
  {
   "cell_type": "code",
   "execution_count": 5,
   "metadata": {},
   "outputs": [],
   "source": [
    "import warnings\n",
    "warnings.filterwarnings(\"ignore\")"
   ]
  },
  {
   "cell_type": "code",
   "execution_count": 6,
   "metadata": {},
   "outputs": [],
   "source": [
    "import pandas as pd\n",
    "import tqdm\n",
    "import re\n",
    "import matplotlib.pyplot as plt\n",
    "import seaborn as sns\n",
    "import matplotlib.ticker as mtick\n",
    "import numpy as np\n",
    "%config InlineBackend.figure_format = 'retina'"
   ]
  },
  {
   "cell_type": "code",
   "execution_count": 7,
   "metadata": {},
   "outputs": [
    {
     "data": {
      "text/html": [
       "<div>\n",
       "<style scoped>\n",
       "    .dataframe tbody tr th:only-of-type {\n",
       "        vertical-align: middle;\n",
       "    }\n",
       "\n",
       "    .dataframe tbody tr th {\n",
       "        vertical-align: top;\n",
       "    }\n",
       "\n",
       "    .dataframe thead th {\n",
       "        text-align: right;\n",
       "    }\n",
       "</style>\n",
       "<table border=\"1\" class=\"dataframe\">\n",
       "  <thead>\n",
       "    <tr style=\"text-align: right;\">\n",
       "      <th></th>\n",
       "      <th>dataset_name</th>\n",
       "      <th>author</th>\n",
       "      <th>dataset_creation_time</th>\n",
       "      <th>downloads</th>\n",
       "      <th>task</th>\n",
       "      <th>domain</th>\n",
       "      <th>dataset_card</th>\n",
       "      <th>total_word_cnt</th>\n",
       "      <th>follow_template</th>\n",
       "    </tr>\n",
       "  </thead>\n",
       "  <tbody>\n",
       "    <tr>\n",
       "      <th>0</th>\n",
       "      <td>super_glue</td>\n",
       "      <td>huggingface</td>\n",
       "      <td>Tue Jan 25 16:34:18 2022 +0100</td>\n",
       "      <td>1403269.0</td>\n",
       "      <td>text-classification,token-classification,quest...</td>\n",
       "      <td>nlp</td>\n",
       "      <td>---\\nannotations_creators:\\n- expert-generated...</td>\n",
       "      <td>517.0</td>\n",
       "      <td>1.0</td>\n",
       "    </tr>\n",
       "    <tr>\n",
       "      <th>1</th>\n",
       "      <td>glue</td>\n",
       "      <td>huggingface</td>\n",
       "      <td>Tue Jan 25 16:34:03 2022 +0100</td>\n",
       "      <td>1140355.0</td>\n",
       "      <td>text-classification</td>\n",
       "      <td>nlp</td>\n",
       "      <td>---\\nannotations_creators:\\n- other\\nlanguage_...</td>\n",
       "      <td>1388.0</td>\n",
       "      <td>1.0</td>\n",
       "    </tr>\n",
       "    <tr>\n",
       "      <th>2</th>\n",
       "      <td>argilla/news-summary</td>\n",
       "      <td>argilla</td>\n",
       "      <td>Wed Dec 7 05:39:38 2022 +0000</td>\n",
       "      <td>1093305.0</td>\n",
       "      <td>summarization</td>\n",
       "      <td>nlp</td>\n",
       "      <td>---\\nlanguage:\\n- en\\nlicense:\\n- cc-by-nc-4.0...</td>\n",
       "      <td>123.0</td>\n",
       "      <td>0.0</td>\n",
       "    </tr>\n",
       "    <tr>\n",
       "      <th>3</th>\n",
       "      <td>openwebtext</td>\n",
       "      <td>huggingface</td>\n",
       "      <td>Tue Jan 25 16:34:33 2022 +0100</td>\n",
       "      <td>755450.0</td>\n",
       "      <td>text-generation,fill-mask</td>\n",
       "      <td>nlp</td>\n",
       "      <td>---\\nannotations_creators:\\n- no-annotation\\nl...</td>\n",
       "      <td>211.0</td>\n",
       "      <td>1.0</td>\n",
       "    </tr>\n",
       "    <tr>\n",
       "      <th>4</th>\n",
       "      <td>bigscience/P3</td>\n",
       "      <td>bigscience</td>\n",
       "      <td>Thu Oct 14 03:22:22 2021 +0000</td>\n",
       "      <td>619941.0</td>\n",
       "      <td>other</td>\n",
       "      <td>None</td>\n",
       "      <td>---\\nannotations_creators:\\n- crowdsourced\\n- ...</td>\n",
       "      <td>981.0</td>\n",
       "      <td>0.0</td>\n",
       "    </tr>\n",
       "    <tr>\n",
       "      <th>...</th>\n",
       "      <td>...</td>\n",
       "      <td>...</td>\n",
       "      <td>...</td>\n",
       "      <td>...</td>\n",
       "      <td>...</td>\n",
       "      <td>...</td>\n",
       "      <td>...</td>\n",
       "      <td>...</td>\n",
       "      <td>...</td>\n",
       "    </tr>\n",
       "    <tr>\n",
       "      <th>7428</th>\n",
       "      <td>autoevaluate/autoeval-staging-eval-cnn_dailyma...</td>\n",
       "      <td>autoevaluate</td>\n",
       "      <td>Sun Sep 4 02:39:17 2022 +0000</td>\n",
       "      <td>0.0</td>\n",
       "      <td>None</td>\n",
       "      <td>None</td>\n",
       "      <td>---\\ntype: predictions\\ntags:\\n- autotrain\\n- ...</td>\n",
       "      <td>51.0</td>\n",
       "      <td>0.0</td>\n",
       "    </tr>\n",
       "    <tr>\n",
       "      <th>7429</th>\n",
       "      <td>api19750904/News_bcn_sentiment</td>\n",
       "      <td>api19750904</td>\n",
       "      <td>Fri Oct 21 15:23:04 2022 +0000</td>\n",
       "      <td>0.0</td>\n",
       "      <td>None</td>\n",
       "      <td>None</td>\n",
       "      <td>News on Barcelona en spanish media outlets</td>\n",
       "      <td>7.0</td>\n",
       "      <td>0.0</td>\n",
       "    </tr>\n",
       "    <tr>\n",
       "      <th>7430</th>\n",
       "      <td>irds/mr-tydi_ko_test</td>\n",
       "      <td>irds</td>\n",
       "      <td>Thu Jan 5 03:36:28 2023 +0000</td>\n",
       "      <td>0.0</td>\n",
       "      <td>text-retrieval</td>\n",
       "      <td>None</td>\n",
       "      <td>---\\npretty_name: '`mr-tydi/ko/test`'\\nviewer:...</td>\n",
       "      <td>72.0</td>\n",
       "      <td>0.0</td>\n",
       "    </tr>\n",
       "    <tr>\n",
       "      <th>7431</th>\n",
       "      <td>irds/mmarco_v2_vi_train</td>\n",
       "      <td>irds</td>\n",
       "      <td>Thu Jan 5 03:29:58 2023 +0000</td>\n",
       "      <td>0.0</td>\n",
       "      <td>text-retrieval</td>\n",
       "      <td>None</td>\n",
       "      <td>---\\npretty_name: '`mmarco/v2/vi/train`'\\nview...</td>\n",
       "      <td>74.0</td>\n",
       "      <td>0.0</td>\n",
       "    </tr>\n",
       "    <tr>\n",
       "      <th>7432</th>\n",
       "      <td>autoevaluate/autoeval-staging-eval-project-976...</td>\n",
       "      <td>autoevaluate</td>\n",
       "      <td>Thu Jul 21 15:35:27 2022 +0000</td>\n",
       "      <td>0.0</td>\n",
       "      <td>None</td>\n",
       "      <td>None</td>\n",
       "      <td>---\\ntype: predictions\\ntags:\\n- autotrain\\n- ...</td>\n",
       "      <td>48.0</td>\n",
       "      <td>0.0</td>\n",
       "    </tr>\n",
       "  </tbody>\n",
       "</table>\n",
       "<p>7433 rows × 9 columns</p>\n",
       "</div>"
      ],
      "text/plain": [
       "                                           dataset_name        author  \\\n",
       "0                                            super_glue   huggingface   \n",
       "1                                                  glue   huggingface   \n",
       "2                                  argilla/news-summary       argilla   \n",
       "3                                           openwebtext   huggingface   \n",
       "4                                         bigscience/P3    bigscience   \n",
       "...                                                 ...           ...   \n",
       "7428  autoevaluate/autoeval-staging-eval-cnn_dailyma...  autoevaluate   \n",
       "7429                     api19750904/News_bcn_sentiment   api19750904   \n",
       "7430                               irds/mr-tydi_ko_test          irds   \n",
       "7431                            irds/mmarco_v2_vi_train          irds   \n",
       "7432  autoevaluate/autoeval-staging-eval-project-976...  autoevaluate   \n",
       "\n",
       "               dataset_creation_time  downloads  \\\n",
       "0     Tue Jan 25 16:34:18 2022 +0100  1403269.0   \n",
       "1     Tue Jan 25 16:34:03 2022 +0100  1140355.0   \n",
       "2      Wed Dec 7 05:39:38 2022 +0000  1093305.0   \n",
       "3     Tue Jan 25 16:34:33 2022 +0100   755450.0   \n",
       "4     Thu Oct 14 03:22:22 2021 +0000   619941.0   \n",
       "...                              ...        ...   \n",
       "7428   Sun Sep 4 02:39:17 2022 +0000        0.0   \n",
       "7429  Fri Oct 21 15:23:04 2022 +0000        0.0   \n",
       "7430   Thu Jan 5 03:36:28 2023 +0000        0.0   \n",
       "7431   Thu Jan 5 03:29:58 2023 +0000        0.0   \n",
       "7432  Thu Jul 21 15:35:27 2022 +0000        0.0   \n",
       "\n",
       "                                                   task domain  \\\n",
       "0     text-classification,token-classification,quest...    nlp   \n",
       "1                                   text-classification    nlp   \n",
       "2                                         summarization    nlp   \n",
       "3                             text-generation,fill-mask    nlp   \n",
       "4                                                 other   None   \n",
       "...                                                 ...    ...   \n",
       "7428                                               None   None   \n",
       "7429                                               None   None   \n",
       "7430                                     text-retrieval   None   \n",
       "7431                                     text-retrieval   None   \n",
       "7432                                               None   None   \n",
       "\n",
       "                                           dataset_card  total_word_cnt  \\\n",
       "0     ---\\nannotations_creators:\\n- expert-generated...           517.0   \n",
       "1     ---\\nannotations_creators:\\n- other\\nlanguage_...          1388.0   \n",
       "2     ---\\nlanguage:\\n- en\\nlicense:\\n- cc-by-nc-4.0...           123.0   \n",
       "3     ---\\nannotations_creators:\\n- no-annotation\\nl...           211.0   \n",
       "4     ---\\nannotations_creators:\\n- crowdsourced\\n- ...           981.0   \n",
       "...                                                 ...             ...   \n",
       "7428  ---\\ntype: predictions\\ntags:\\n- autotrain\\n- ...            51.0   \n",
       "7429         News on Barcelona en spanish media outlets             7.0   \n",
       "7430  ---\\npretty_name: '`mr-tydi/ko/test`'\\nviewer:...            72.0   \n",
       "7431  ---\\npretty_name: '`mmarco/v2/vi/train`'\\nview...            74.0   \n",
       "7432  ---\\ntype: predictions\\ntags:\\n- autotrain\\n- ...            48.0   \n",
       "\n",
       "      follow_template  \n",
       "0                 1.0  \n",
       "1                 1.0  \n",
       "2                 0.0  \n",
       "3                 1.0  \n",
       "4                 0.0  \n",
       "...               ...  \n",
       "7428              0.0  \n",
       "7429              0.0  \n",
       "7430              0.0  \n",
       "7431              0.0  \n",
       "7432              0.0  \n",
       "\n",
       "[7433 rows x 9 columns]"
      ]
     },
     "execution_count": 7,
     "metadata": {},
     "output_type": "execute_result"
    }
   ],
   "source": [
    "dataset_card = pd.read_parquet('../Data/Dataset_Info/datasetcard_info.parquet')\n",
    "dataset_card"
   ]
  },
  {
   "cell_type": "code",
   "execution_count": 8,
   "metadata": {},
   "outputs": [
    {
     "name": "stdout",
     "output_type": "stream",
     "text": [
      "group_sizes [100, 500, 1500, 2500, 5000, None, 0] means, stderrs [0.86, 0.758, 0.6593333333333333, 0.5504, 0.3956, 0.2918068074801561, 0.07932924862947437] [0.0348735088019777, 0.019173085678337164, 0.012240989358418209, 0.009951057502505311, 0.006915901527551398, 0.005273157377025023, 0.004853868392136298]\n"
     ]
    },
    {
     "data": {
      "image/png": "[encoded data removed]",
      "text/plain": [
       "<Figure size 800x400 with 1 Axes>"
      ]
     },
     "metadata": {
      "image/png": {
       "height": 383,
       "width": 784
      }
     },
     "output_type": "display_data"
    }
   ],
   "source": [
    "group_sizes = [100, 500, 1500, 2500, 5000]\n",
    "labels = [f'Top {size}' for size in group_sizes] + ['All'] + ['Downloads=0']\n",
    "group_sizes.append(None) # For calculating all\n",
    "group_sizes.append(0)\n",
    "\n",
    "\n",
    "def calculate_mean_sem(dataframe, group_sizes):\n",
    "    means = [dataframe.head(size)['follow_template'].mean() for size in group_sizes[:-1]]\n",
    "    stderrs = [dataframe.head(size)['follow_template'].sem() for size in group_sizes[:-1]]\n",
    "    means.append(dataframe[dataframe['downloads']==0]['follow_template'].mean())\n",
    "    stderrs.append(dataframe[dataframe['downloads']==0]['follow_template'].sem())\n",
    "    return means, stderrs\n",
    "\n",
    "means, stderrs = calculate_mean_sem(dataset_card, group_sizes)\n",
    "\n",
    "def plot_word_count_bar_chart(means, stderrs, labels):\n",
    "    sns.set(style=\"whitegrid\")\n",
    "    plt.figure(figsize=(8, 4))\n",
    "    \n",
    "    bar_colors = sns.color_palette(\"rocket\", n_colors=len(labels))\n",
    "    plt.bar(labels, means, yerr=stderrs, capsize=8, color=bar_colors, alpha=0.8)\n",
    "    \n",
    "    plt.ylabel('Fraction of Dataset Cards\\n Containing All 5 Sections', fontsize=16)\n",
    "    plt.xticks(fontsize=14)\n",
    "    plt.yticks(fontsize=16)\n",
    "    plt.gca().yaxis.set_major_formatter(mtick.PercentFormatter(xmax=1, decimals=0))\n",
    "\n",
    "    # set y axis range to 0-1\n",
    "    plt.ylim(0, 1)\n",
    "\n",
    "    plt.tight_layout()\n",
    "    plt.show()\n",
    "    return\n",
    "\n",
    "means, stderrs = calculate_mean_sem(dataset_card, group_sizes)\n",
    "print('group_sizes', group_sizes, 'means, stderrs', means, stderrs)\n",
    "plot_word_count_bar_chart(means, stderrs, labels)"
   ]
  },
  {
   "cell_type": "code",
   "execution_count": 9,
   "metadata": {},
   "outputs": [
    {
     "name": "stdout",
     "output_type": "stream",
     "text": [
      "group_sizes [100, 200, 500, 1500, 2500, 5000, None] means, stderrs [617.5, 579.86, 493.504, 433.18, 364.722, 295.332, 232.95479617920086] [102.17462226180939, 57.12100531539344, 26.195191851182166, 12.449773129150246, 8.651960488497263, 5.488969195738517, 6.354580027835507]\n"
     ]
    },
    {
     "data": {
      "image/png": "[encoded data removed]",
      "text/plain": [
       "<Figure size 700x400 with 1 Axes>"
      ]
     },
     "metadata": {
      "image/png": {
       "height": 384,
       "width": 684
      }
     },
     "output_type": "display_data"
    }
   ],
   "source": [
    "def calculate_mean_sem(dataframe, group_sizes):\n",
    "    means = [dataframe.head(size)['total_word_cnt'].mean() for size in group_sizes]\n",
    "    stderrs = [dataframe.head(size)['total_word_cnt'].sem() for size in group_sizes]\n",
    "    return means, stderrs\n",
    "\n",
    "def plot_word_count_bar_chart(means, stderrs, labels):\n",
    "    sns.set(style=\"whitegrid\")\n",
    "    plt.figure(figsize=(7, 4))\n",
    "    \n",
    "    bar_colors = sns.color_palette(\"mako\", n_colors=len(labels))\n",
    "    plt.bar(labels, means, yerr=stderrs, capsize=8, color=bar_colors, alpha=0.8)\n",
    "    \n",
    "    plt.ylabel('Word Count', fontsize=16)\n",
    "    plt.xticks(fontsize=14)\n",
    "    plt.yticks(fontsize=14)\n",
    "    plt.tight_layout()\n",
    "    \n",
    "    plt.show()\n",
    "    return\n",
    "\n",
    "group_sizes = [100, 200, 500, 1500, 2500, 5000]\n",
    "labels = [f'Top\\n{size}' for size in group_sizes] + ['All Dataset\\nCards']\n",
    "group_sizes.append(None) # For calculating all\n",
    "\n",
    "means, stderrs = calculate_mean_sem(dataset_card, group_sizes)\n",
    "print('group_sizes', group_sizes, 'means, stderrs', means, stderrs)\n",
    "plot_word_count_bar_chart(means, stderrs, labels)\n"
   ]
  },
  {
   "attachments": {},
   "cell_type": "markdown",
   "metadata": {},
   "source": [
    "## Dataset Card Section Analysis"
   ]
  },
  {
   "cell_type": "code",
   "execution_count": 10,
   "metadata": {},
   "outputs": [],
   "source": [
    "import pandas as pd\n",
    "import tqdm"
   ]
  },
  {
   "cell_type": "code",
   "execution_count": 11,
   "metadata": {},
   "outputs": [],
   "source": [
    "section_list = [\n",
    "    'dataset description',\n",
    "    'dataset structure',\n",
    "    'dataset creation',\n",
    "    'considerations for using the data',\n",
    "    'additional information',\n",
    "    'other'\n",
    "]"
   ]
  },
  {
   "cell_type": "code",
   "execution_count": 12,
   "metadata": {},
   "outputs": [
    {
     "data": {
      "text/html": [
       "<div>\n",
       "<style scoped>\n",
       "    .dataframe tbody tr th:only-of-type {\n",
       "        vertical-align: middle;\n",
       "    }\n",
       "\n",
       "    .dataframe tbody tr th {\n",
       "        vertical-align: top;\n",
       "    }\n",
       "\n",
       "    .dataframe thead tr th {\n",
       "        text-align: left;\n",
       "    }\n",
       "</style>\n",
       "<table border=\"1\" class=\"dataframe\">\n",
       "  <thead>\n",
       "    <tr>\n",
       "      <th></th>\n",
       "      <th colspan=\"6\" halign=\"left\">dataset description</th>\n",
       "      <th colspan=\"4\" halign=\"left\">dataset structure</th>\n",
       "      <th>...</th>\n",
       "      <th colspan=\"4\" halign=\"left\">additional information</th>\n",
       "      <th colspan=\"6\" halign=\"left\">other</th>\n",
       "    </tr>\n",
       "    <tr>\n",
       "      <th></th>\n",
       "      <th>has_section</th>\n",
       "      <th>section_length_proportion</th>\n",
       "      <th>subsection_title</th>\n",
       "      <th>section_content</th>\n",
       "      <th>word_cnt</th>\n",
       "      <th>not_empty</th>\n",
       "      <th>has_section</th>\n",
       "      <th>section_length_proportion</th>\n",
       "      <th>subsection_title</th>\n",
       "      <th>section_content</th>\n",
       "      <th>...</th>\n",
       "      <th>subsection_title</th>\n",
       "      <th>section_content</th>\n",
       "      <th>word_cnt</th>\n",
       "      <th>not_empty</th>\n",
       "      <th>has_section</th>\n",
       "      <th>section_length_proportion</th>\n",
       "      <th>subsection_title</th>\n",
       "      <th>section_content</th>\n",
       "      <th>word_cnt</th>\n",
       "      <th>not_empty</th>\n",
       "    </tr>\n",
       "  </thead>\n",
       "  <tbody>\n",
       "    <tr>\n",
       "      <th>super_glue</th>\n",
       "      <td>1</td>\n",
       "      <td>0.268182</td>\n",
       "      <td>Dataset Summary</td>\n",
       "      <td>Dataset Description\\nHomepage: https://github....</td>\n",
       "      <td>118</td>\n",
       "      <td>1</td>\n",
       "      <td>1</td>\n",
       "      <td>0.704545</td>\n",
       "      <td>Data Fields;Data Instances;Data Splits</td>\n",
       "      <td>Data Instances\\n#### axb\\nSize of downloaded d...</td>\n",
       "      <td>...</td>\n",
       "      <td>Contributions;Citation Information</td>\n",
       "      <td>Citation Information\\nContributions\\nThanks to...</td>\n",
       "      <td>12</td>\n",
       "      <td>1</td>\n",
       "      <td>0</td>\n",
       "      <td>0.000000</td>\n",
       "      <td>None</td>\n",
       "      <td>None</td>\n",
       "      <td>0</td>\n",
       "      <td>0</td>\n",
       "    </tr>\n",
       "    <tr>\n",
       "      <th>glue</th>\n",
       "      <td>1</td>\n",
       "      <td>0.712919</td>\n",
       "      <td>Supported Tasks and Leaderboards;Languages;Dat...</td>\n",
       "      <td>Dataset Description\\nHomepage: https://nyu-mll...</td>\n",
       "      <td>894</td>\n",
       "      <td>1</td>\n",
       "      <td>1</td>\n",
       "      <td>0.275917</td>\n",
       "      <td>Data Fields;Data Instances;Data Splits</td>\n",
       "      <td>Data Instances\\n#### ax\\nSize of downloaded da...</td>\n",
       "      <td>...</td>\n",
       "      <td>Contributions;Citation Information</td>\n",
       "      <td>Citation Information\\nContributions\\nThanks to...</td>\n",
       "      <td>14</td>\n",
       "      <td>1</td>\n",
       "      <td>0</td>\n",
       "      <td>0.000000</td>\n",
       "      <td>None</td>\n",
       "      <td>None</td>\n",
       "      <td>0</td>\n",
       "      <td>0</td>\n",
       "    </tr>\n",
       "    <tr>\n",
       "      <th>...</th>\n",
       "      <td>...</td>\n",
       "      <td>...</td>\n",
       "      <td>...</td>\n",
       "      <td>...</td>\n",
       "      <td>...</td>\n",
       "      <td>...</td>\n",
       "      <td>...</td>\n",
       "      <td>...</td>\n",
       "      <td>...</td>\n",
       "      <td>...</td>\n",
       "      <td>...</td>\n",
       "      <td>...</td>\n",
       "      <td>...</td>\n",
       "      <td>...</td>\n",
       "      <td>...</td>\n",
       "      <td>...</td>\n",
       "      <td>...</td>\n",
       "      <td>...</td>\n",
       "      <td>...</td>\n",
       "      <td>...</td>\n",
       "      <td>...</td>\n",
       "    </tr>\n",
       "    <tr>\n",
       "      <th>irds/mmarco_v2_vi_train</th>\n",
       "      <td>0</td>\n",
       "      <td>0.000000</td>\n",
       "      <td>None</td>\n",
       "      <td>None</td>\n",
       "      <td>0</td>\n",
       "      <td>0</td>\n",
       "      <td>0</td>\n",
       "      <td>0.000000</td>\n",
       "      <td>None</td>\n",
       "      <td>None</td>\n",
       "      <td>...</td>\n",
       "      <td>Citation Information</td>\n",
       "      <td>Citation Information\\n</td>\n",
       "      <td>2</td>\n",
       "      <td>1</td>\n",
       "      <td>1</td>\n",
       "      <td>0.933333</td>\n",
       "      <td>Usage</td>\n",
       "      <td>Usage\\nNote that calling load_dataset will dow...</td>\n",
       "      <td>28</td>\n",
       "      <td>1</td>\n",
       "    </tr>\n",
       "    <tr>\n",
       "      <th>autoevaluate/autoeval-staging-eval-project-976d13e6-0b05-475e-9b4e-e8fbc174cfae-346</th>\n",
       "      <td>0</td>\n",
       "      <td>0.000000</td>\n",
       "      <td>None</td>\n",
       "      <td>None</td>\n",
       "      <td>0</td>\n",
       "      <td>0</td>\n",
       "      <td>0</td>\n",
       "      <td>0.000000</td>\n",
       "      <td>None</td>\n",
       "      <td>None</td>\n",
       "      <td>...</td>\n",
       "      <td>Contributions</td>\n",
       "      <td>Contributions\\nThanks to @lewtun for evaluatin...</td>\n",
       "      <td>8</td>\n",
       "      <td>1</td>\n",
       "      <td>0</td>\n",
       "      <td>0.000000</td>\n",
       "      <td>None</td>\n",
       "      <td>None</td>\n",
       "      <td>0</td>\n",
       "      <td>0</td>\n",
       "    </tr>\n",
       "  </tbody>\n",
       "</table>\n",
       "<p>7433 rows × 36 columns</p>\n",
       "</div>"
      ],
      "text/plain": [
       "                                                   dataset description  \\\n",
       "                                                           has_section   \n",
       "super_glue                                                           1   \n",
       "glue                                                                 1   \n",
       "...                                                                ...   \n",
       "irds/mmarco_v2_vi_train                                              0   \n",
       "autoevaluate/autoeval-staging-eval-project-976d...                   0   \n",
       "\n",
       "                                                                              \\\n",
       "                                                   section_length_proportion   \n",
       "super_glue                                                          0.268182   \n",
       "glue                                                                0.712919   \n",
       "...                                                                      ...   \n",
       "irds/mmarco_v2_vi_train                                             0.000000   \n",
       "autoevaluate/autoeval-staging-eval-project-976d...                  0.000000   \n",
       "\n",
       "                                                                                                       \\\n",
       "                                                                                     subsection_title   \n",
       "super_glue                                                                            Dataset Summary   \n",
       "glue                                                Supported Tasks and Leaderboards;Languages;Dat...   \n",
       "...                                                                                               ...   \n",
       "irds/mmarco_v2_vi_train                                                                          None   \n",
       "autoevaluate/autoeval-staging-eval-project-976d...                                               None   \n",
       "\n",
       "                                                                                                       \\\n",
       "                                                                                      section_content   \n",
       "super_glue                                          Dataset Description\\nHomepage: https://github....   \n",
       "glue                                                Dataset Description\\nHomepage: https://nyu-mll...   \n",
       "...                                                                                               ...   \n",
       "irds/mmarco_v2_vi_train                                                                          None   \n",
       "autoevaluate/autoeval-staging-eval-project-976d...                                               None   \n",
       "\n",
       "                                                                       \\\n",
       "                                                   word_cnt not_empty   \n",
       "super_glue                                              118         1   \n",
       "glue                                                    894         1   \n",
       "...                                                     ...       ...   \n",
       "irds/mmarco_v2_vi_train                                   0         0   \n",
       "autoevaluate/autoeval-staging-eval-project-976d...        0         0   \n",
       "\n",
       "                                                   dataset structure  \\\n",
       "                                                         has_section   \n",
       "super_glue                                                         1   \n",
       "glue                                                               1   \n",
       "...                                                              ...   \n",
       "irds/mmarco_v2_vi_train                                            0   \n",
       "autoevaluate/autoeval-staging-eval-project-976d...                 0   \n",
       "\n",
       "                                                                              \\\n",
       "                                                   section_length_proportion   \n",
       "super_glue                                                          0.704545   \n",
       "glue                                                                0.275917   \n",
       "...                                                                      ...   \n",
       "irds/mmarco_v2_vi_train                                             0.000000   \n",
       "autoevaluate/autoeval-staging-eval-project-976d...                  0.000000   \n",
       "\n",
       "                                                                                            \\\n",
       "                                                                          subsection_title   \n",
       "super_glue                                          Data Fields;Data Instances;Data Splits   \n",
       "glue                                                Data Fields;Data Instances;Data Splits   \n",
       "...                                                                                    ...   \n",
       "irds/mmarco_v2_vi_train                                                               None   \n",
       "autoevaluate/autoeval-staging-eval-project-976d...                                    None   \n",
       "\n",
       "                                                                                                       \\\n",
       "                                                                                      section_content   \n",
       "super_glue                                          Data Instances\\n#### axb\\nSize of downloaded d...   \n",
       "glue                                                Data Instances\\n#### ax\\nSize of downloaded da...   \n",
       "...                                                                                               ...   \n",
       "irds/mmarco_v2_vi_train                                                                          None   \n",
       "autoevaluate/autoeval-staging-eval-project-976d...                                               None   \n",
       "\n",
       "                                                    ...  \\\n",
       "                                                    ...   \n",
       "super_glue                                          ...   \n",
       "glue                                                ...   \n",
       "...                                                 ...   \n",
       "irds/mmarco_v2_vi_train                             ...   \n",
       "autoevaluate/autoeval-staging-eval-project-976d...  ...   \n",
       "\n",
       "                                                                additional information  \\\n",
       "                                                                      subsection_title   \n",
       "super_glue                                          Contributions;Citation Information   \n",
       "glue                                                Contributions;Citation Information   \n",
       "...                                                                                ...   \n",
       "irds/mmarco_v2_vi_train                                           Citation Information   \n",
       "autoevaluate/autoeval-staging-eval-project-976d...                       Contributions   \n",
       "\n",
       "                                                                                                       \\\n",
       "                                                                                      section_content   \n",
       "super_glue                                          Citation Information\\nContributions\\nThanks to...   \n",
       "glue                                                Citation Information\\nContributions\\nThanks to...   \n",
       "...                                                                                               ...   \n",
       "irds/mmarco_v2_vi_train                                                        Citation Information\\n   \n",
       "autoevaluate/autoeval-staging-eval-project-976d...  Contributions\\nThanks to @lewtun for evaluatin...   \n",
       "\n",
       "                                                                       \\\n",
       "                                                   word_cnt not_empty   \n",
       "super_glue                                               12         1   \n",
       "glue                                                     14         1   \n",
       "...                                                     ...       ...   \n",
       "irds/mmarco_v2_vi_train                                   2         1   \n",
       "autoevaluate/autoeval-staging-eval-project-976d...        8         1   \n",
       "\n",
       "                                                         other  \\\n",
       "                                                   has_section   \n",
       "super_glue                                                   0   \n",
       "glue                                                         0   \n",
       "...                                                        ...   \n",
       "irds/mmarco_v2_vi_train                                      1   \n",
       "autoevaluate/autoeval-staging-eval-project-976d...           0   \n",
       "\n",
       "                                                                              \\\n",
       "                                                   section_length_proportion   \n",
       "super_glue                                                          0.000000   \n",
       "glue                                                                0.000000   \n",
       "...                                                                      ...   \n",
       "irds/mmarco_v2_vi_train                                             0.933333   \n",
       "autoevaluate/autoeval-staging-eval-project-976d...                  0.000000   \n",
       "\n",
       "                                                                     \\\n",
       "                                                   subsection_title   \n",
       "super_glue                                                     None   \n",
       "glue                                                           None   \n",
       "...                                                             ...   \n",
       "irds/mmarco_v2_vi_train                                       Usage   \n",
       "autoevaluate/autoeval-staging-eval-project-976d...             None   \n",
       "\n",
       "                                                                                                       \\\n",
       "                                                                                      section_content   \n",
       "super_glue                                                                                       None   \n",
       "glue                                                                                             None   \n",
       "...                                                                                               ...   \n",
       "irds/mmarco_v2_vi_train                             Usage\\nNote that calling load_dataset will dow...   \n",
       "autoevaluate/autoeval-staging-eval-project-976d...                                               None   \n",
       "\n",
       "                                                                       \n",
       "                                                   word_cnt not_empty  \n",
       "super_glue                                                0         0  \n",
       "glue                                                      0         0  \n",
       "...                                                     ...       ...  \n",
       "irds/mmarco_v2_vi_train                                  28         1  \n",
       "autoevaluate/autoeval-staging-eval-project-976d...        0         0  \n",
       "\n",
       "[7433 rows x 36 columns]"
      ]
     },
     "execution_count": 12,
     "metadata": {},
     "output_type": "execute_result"
    }
   ],
   "source": [
    "datasetcard_section = pd.read_parquet('../Data/Dataset_Info/datasetcard_sections_info.parquet')\n",
    "datasetcard = pd.read_parquet('../Data/Dataset_Info/datasetcard_info.parquet')\n",
    "# set the display row number to be 5\n",
    "pd.set_option('display.max_rows', 5)\n",
    "datasetcard_section"
   ]
  },
  {
   "cell_type": "code",
   "execution_count": 22,
   "metadata": {},
   "outputs": [
    {
     "name": "stdout",
     "output_type": "stream",
     "text": [
      "Dataset Description\n",
      "Homepage: https://nyu-mll.github.io/CoLA/\n",
      "Repository: \n",
      "Paper: \n",
      "Point of Contact: \n",
      "Size of downloaded dataset files: 955.33 MB\n",
      "Size of the generated dataset: 229.68 MB\n",
      "Total amount of disk used: 1185.01 MB\n",
      "Dataset Summary\n",
      "GLUE, the General Language Understanding Evaluation benchmark () is a collection of resources for training, evaluating, and analyzing natural language understanding systems.\n",
      "Supported Tasks and Leaderboards\n",
      "The leaderboard for the GLUE benchmark can be found at this address. It comprises the following tasks:\n",
      "#### axA manually-curated evaluation dataset for fine-grained analysis of system performance on a broad range of linguistic phenomena. This dataset evaluates sentence understanding through Natural Language Inference (NLI) problems. Use a model trained on MulitNLI to produce predictions for this dataset.\n",
      "#### colaThe Corpus of Linguistic Acceptability consists of English acceptability judgments drawn from books and journal articles on linguistic theory. Each example is a sequence of words annotated with whether it is a grammatical English sentence.\n",
      "#### mnliThe Multi-Genre Natural Language Inference Corpus is a crowdsourced collection of sentence pairs with textual entailment annotations. Given a premise sentence and a hypothesis sentence, the task is to predict whether the premise entails the hypothesis (entailment), contradicts the hypothesis (contradiction), or neither (neutral). The premise sentences are gathered from ten different sources, including transcribed speech, fiction, and government reports. The authors of the benchmark use the standard test set, for which they obtained private labels from the RTE authors, and evaluate on both the matched (in-domain) and mismatched (cross-domain) section. They also uses and recommend the SNLI corpus as 550k examples of auxiliary training data.\n",
      "#### mnli_matchedThe matched validation and test splits from MNLI. See the \"mnli\" BuilderConfig for additional information.\n",
      "#### mnli_mismatchedThe mismatched validation and test splits from MNLI. See the \"mnli\" BuilderConfig for additional information.\n",
      "#### mrpcThe Microsoft Research Paraphrase Corpus (Dolan & Brockett, 2005) is a corpus of sentence pairs automatically extracted from online news sources, with human annotations for whether the sentences in the pair are semantically equivalent.\n",
      "#### qnliThe Stanford Question Answering Dataset is a question-answering dataset consisting of question-paragraph pairs, where one of the sentences in the paragraph (drawn from Wikipedia) contains the answer to the corresponding question (written by an annotator). The authors of the benchmark convert the task into sentence pair classification by forming a pair between each question and each sentence in the corresponding context, and filtering out pairs with low lexical overlap between the question and the context sentence. The task is to determine whether the context sentence contains the answer to the question. This modified version of the original task removes the requirement that the model select the exact answer, but also removes the simplifying assumptions that the answer is always present in the input and that lexical overlap is a reliable cue.\n",
      "#### qqpThe Quora Question Pairs2 dataset is a collection of question pairs from the community question-answering website Quora. The task is to determine whether a pair of questions are semantically equivalent.\n",
      "#### rteThe Recognizing Textual Entailment (RTE) datasets come from a series of annual textual entailment challenges. The authors of the benchmark combined the data from RTE1 (Dagan et al., 2006), RTE2 (Bar Haim et al., 2006), RTE3 (Giampiccolo et al., 2007), and RTE5 (Bentivogli et al., 2009). Examples are constructed based on news and Wikipedia text. The authors of the benchmark convert all datasets to a two-class split, where for three-class datasets they collapse neutral and contradiction into not entailment, for consistency.\n",
      "#### sst2The Stanford Sentiment Treebank consists of sentences from movie reviews and human annotations of their sentiment. The task is to predict the sentiment of a given sentence. It uses the two-way (positive/negative) class split, with only sentence-level labels.\n",
      "#### stsbThe Semantic Textual Similarity Benchmark (Cer et al., 2017) is a collection of sentence pairs drawn from news headlines, video and image captions, and natural language inference data. Each pair is human-annotated with a similarity score from 1 to 5.\n",
      "#### wnliThe Winograd Schema Challenge (Levesque et al., 2011) is a reading comprehension task in which a system must read a sentence with a pronoun and select the referent of that pronoun from a list of choices. The examples are manually constructed to foil simple statistical methods: Each one is contingent on contextual information provided by a single word or phrase in the sentence. To convert the problem into sentence pair classification, the authors of the benchmark construct sentence pairs by replacing the ambiguous pronoun with each possible referent. The task is to predict if the sentence with the pronoun substituted is entailed by the original sentence. They use a small evaluation set consisting of new examples derived from fiction books that was shared privately by the authors of the original corpus. While the included training set is balanced between two classes, the test set is imbalanced between them (65% not entailment). Also, due to a data quirk, the development set is adversarial: hypotheses are sometimes shared between training and development examples, so if a model memorizes the training examples, they will predict the wrong label on corresponding development set example. As with QNLI, each example is evaluated separately, so there is not a systematic correspondence between a model's score on this task and its score on the unconverted original task. The authors of the benchmark call converted dataset WNLI (Winograd NLI).\n",
      "Languages\n",
      "The language data in GLUE is in English (BCP-47 en)\n"
     ]
    }
   ],
   "source": [
    "datasetcard_section"
   ]
  },
  {
   "cell_type": "code",
   "execution_count": 13,
   "metadata": {},
   "outputs": [],
   "source": [
    "coverage_pd = pd.DataFrame(columns=section_list, index = datasetcard_section['other'].index)\n",
    "for i in section_list:\n",
    "    coverage_pd[i] = datasetcard_section[i]['section_length_proportion']\n"
   ]
  },
  {
   "cell_type": "code",
   "execution_count": 14,
   "metadata": {},
   "outputs": [],
   "source": [
    "dataset_description_avg = coverage_pd['dataset description'].mean()\n",
    "dataset_structure_avg = coverage_pd['dataset structure'].mean()\n",
    "dataset_creation_avg = coverage_pd['dataset creation'].mean()\n",
    "considerations_for_using_the_data_avg = coverage_pd['considerations for using the data'].mean()\n",
    "additional_information_avg = coverage_pd['additional information'].mean()\n",
    "other_avg = coverage_pd['other'].mean()"
   ]
  },
  {
   "cell_type": "code",
   "execution_count": 15,
   "metadata": {},
   "outputs": [
    {
     "data": {
      "application/vnd.plotly.v1+json": {
       "config": {
        "plotlyServerURL": "https://plot.ly"
       },
       "data": [
        {
         "domain": {
          "x": [
           0,
           1
          ],
          "y": [
           0,
           1
          ]
         },
         "hovertemplate": "section=%{label}<br>coverage=%{value}<extra></extra>",
         "labels": [
          "Dataset<br>Description",
          "Dataset<br>Structure",
          "Dataset<br>Creation",
          "Considerations<br>for Using the Data",
          "Additional<br>Information",
          "Other"
         ],
         "legendgroup": "",
         "name": "",
         "showlegend": true,
         "text": [
          "36.2%",
          "33.6%",
          "8.6%",
          "2.1%",
          "10.8%",
          "3.8%"
         ],
         "textfont": {
          "color": [
           "black",
           "black",
           "black",
           "white",
           "black",
           "white"
          ],
          "size": [
           16,
           16,
           14,
           14,
           14,
           16
          ]
         },
         "textinfo": "text+label",
         "textposition": "inside",
         "type": "pie",
         "values": [
          0.3615033514206489,
          0.3356369695037229,
          0.0860473360884475,
          0.020706689616878226,
          0.108469303758754,
          0.03763634961154846
         ]
        }
       ],
       "layout": {
        "annotations": [
         {
          "arrowcolor": "white",
          "arrowhead": 1,
          "ax": -15,
          "ay": -60,
          "bgcolor": "#ffffff",
          "borderpad": 3,
          "font": {
           "color": "black",
           "size": 16
          },
          "opacity": 0.8,
          "showarrow": true,
          "text": "Considerations for<br>Using the Data: 2.1%",
          "x": 0.69,
          "y": 0.2
         }
        ],
        "autosize": false,
        "height": 300,
        "legend": {
         "tracegroupgap": 0
        },
        "margin": {
         "b": 0,
         "l": 0,
         "pad": 0,
         "r": 0,
         "t": 0
        },
        "piecolorway": [
         "rgb(246, 210, 169)",
         "rgb(245, 183, 142)",
         "rgb(241, 156, 124)",
         "rgb(234, 129, 113)",
         "rgb(221, 104, 108)",
         "rgb(202, 82, 104)",
         "rgb(177, 63, 100)"
        ],
        "showlegend": false,
        "template": {
         "data": {
          "bar": [
           {
            "error_x": {
             "color": "#2a3f5f"
            },
            "error_y": {
             "color": "#2a3f5f"
            },
            "marker": {
             "line": {
              "color": "#E5ECF6",
              "width": 0.5
             },
             "pattern": {
              "fillmode": "overlay",
              "size": 10,
              "solidity": 0.2
             }
            },
            "type": "bar"
           }
          ],
          "barpolar": [
           {
            "marker": {
             "line": {
              "color": "#E5ECF6",
              "width": 0.5
             },
             "pattern": {
              "fillmode": "overlay",
              "size": 10,
              "solidity": 0.2
             }
            },
            "type": "barpolar"
           }
          ],
          "carpet": [
           {
            "aaxis": {
             "endlinecolor": "#2a3f5f",
             "gridcolor": "white",
             "linecolor": "white",
             "minorgridcolor": "white",
             "startlinecolor": "#2a3f5f"
            },
            "baxis": {
             "endlinecolor": "#2a3f5f",
             "gridcolor": "white",
             "linecolor": "white",
             "minorgridcolor": "white",
             "startlinecolor": "#2a3f5f"
            },
            "type": "carpet"
           }
          ],
          "choropleth": [
           {
            "colorbar": {
             "outlinewidth": 0,
             "ticks": ""
            },
            "type": "choropleth"
           }
          ],
          "contour": [
           {
            "colorbar": {
             "outlinewidth": 0,
             "ticks": ""
            },
            "colorscale": [
             [
              0,
              "#0d0887"
             ],
             [
              0.1111111111111111,
              "#46039f"
             ],
             [
              0.2222222222222222,
              "#7201a8"
             ],
             [
              0.3333333333333333,
              "#9c179e"
             ],
             [
              0.4444444444444444,
              "#bd3786"
             ],
             [
              0.5555555555555556,
              "#d8576b"
             ],
             [
              0.6666666666666666,
              "#ed7953"
             ],
             [
              0.7777777777777778,
              "#fb9f3a"
             ],
             [
              0.8888888888888888,
              "#fdca26"
             ],
             [
              1,
              "#f0f921"
             ]
            ],
            "type": "contour"
           }
          ],
          "contourcarpet": [
           {
            "colorbar": {
             "outlinewidth": 0,
             "ticks": ""
            },
            "type": "contourcarpet"
           }
          ],
          "heatmap": [
           {
            "colorbar": {
             "outlinewidth": 0,
             "ticks": ""
            },
            "colorscale": [
             [
              0,
              "#0d0887"
             ],
             [
              0.1111111111111111,
              "#46039f"
             ],
             [
              0.2222222222222222,
              "#7201a8"
             ],
             [
              0.3333333333333333,
              "#9c179e"
             ],
             [
              0.4444444444444444,
              "#bd3786"
             ],
             [
              0.5555555555555556,
              "#d8576b"
             ],
             [
              0.6666666666666666,
              "#ed7953"
             ],
             [
              0.7777777777777778,
              "#fb9f3a"
             ],
             [
              0.8888888888888888,
              "#fdca26"
             ],
             [
              1,
              "#f0f921"
             ]
            ],
            "type": "heatmap"
           }
          ],
          "heatmapgl": [
           {
            "colorbar": {
             "outlinewidth": 0,
             "ticks": ""
            },
            "colorscale": [
             [
              0,
              "#0d0887"
             ],
             [
              0.1111111111111111,
              "#46039f"
             ],
             [
              0.2222222222222222,
              "#7201a8"
             ],
             [
              0.3333333333333333,
              "#9c179e"
             ],
             [
              0.4444444444444444,
              "#bd3786"
             ],
             [
              0.5555555555555556,
              "#d8576b"
             ],
             [
              0.6666666666666666,
              "#ed7953"
             ],
             [
              0.7777777777777778,
              "#fb9f3a"
             ],
             [
              0.8888888888888888,
              "#fdca26"
             ],
             [
              1,
              "#f0f921"
             ]
            ],
            "type": "heatmapgl"
           }
          ],
          "histogram": [
           {
            "marker": {
             "pattern": {
              "fillmode": "overlay",
              "size": 10,
              "solidity": 0.2
             }
            },
            "type": "histogram"
           }
          ],
          "histogram2d": [
           {
            "colorbar": {
             "outlinewidth": 0,
             "ticks": ""
            },
            "colorscale": [
             [
              0,
              "#0d0887"
             ],
             [
              0.1111111111111111,
              "#46039f"
             ],
             [
              0.2222222222222222,
              "#7201a8"
             ],
             [
              0.3333333333333333,
              "#9c179e"
             ],
             [
              0.4444444444444444,
              "#bd3786"
             ],
             [
              0.5555555555555556,
              "#d8576b"
             ],
             [
              0.6666666666666666,
              "#ed7953"
             ],
             [
              0.7777777777777778,
              "#fb9f3a"
             ],
             [
              0.8888888888888888,
              "#fdca26"
             ],
             [
              1,
              "#f0f921"
             ]
            ],
            "type": "histogram2d"
           }
          ],
          "histogram2dcontour": [
           {
            "colorbar": {
             "outlinewidth": 0,
             "ticks": ""
            },
            "colorscale": [
             [
              0,
              "#0d0887"
             ],
             [
              0.1111111111111111,
              "#46039f"
             ],
             [
              0.2222222222222222,
              "#7201a8"
             ],
             [
              0.3333333333333333,
              "#9c179e"
             ],
             [
              0.4444444444444444,
              "#bd3786"
             ],
             [
              0.5555555555555556,
              "#d8576b"
             ],
             [
              0.6666666666666666,
              "#ed7953"
             ],
             [
              0.7777777777777778,
              "#fb9f3a"
             ],
             [
              0.8888888888888888,
              "#fdca26"
             ],
             [
              1,
              "#f0f921"
             ]
            ],
            "type": "histogram2dcontour"
           }
          ],
          "mesh3d": [
           {
            "colorbar": {
             "outlinewidth": 0,
             "ticks": ""
            },
            "type": "mesh3d"
           }
          ],
          "parcoords": [
           {
            "line": {
             "colorbar": {
              "outlinewidth": 0,
              "ticks": ""
             }
            },
            "type": "parcoords"
           }
          ],
          "pie": [
           {
            "automargin": true,
            "type": "pie"
           }
          ],
          "scatter": [
           {
            "fillpattern": {
             "fillmode": "overlay",
             "size": 10,
             "solidity": 0.2
            },
            "type": "scatter"
           }
          ],
          "scatter3d": [
           {
            "line": {
             "colorbar": {
              "outlinewidth": 0,
              "ticks": ""
             }
            },
            "marker": {
             "colorbar": {
              "outlinewidth": 0,
              "ticks": ""
             }
            },
            "type": "scatter3d"
           }
          ],
          "scattercarpet": [
           {
            "marker": {
             "colorbar": {
              "outlinewidth": 0,
              "ticks": ""
             }
            },
            "type": "scattercarpet"
           }
          ],
          "scattergeo": [
           {
            "marker": {
             "colorbar": {
              "outlinewidth": 0,
              "ticks": ""
             }
            },
            "type": "scattergeo"
           }
          ],
          "scattergl": [
           {
            "marker": {
             "colorbar": {
              "outlinewidth": 0,
              "ticks": ""
             }
            },
            "type": "scattergl"
           }
          ],
          "scattermapbox": [
           {
            "marker": {
             "colorbar": {
              "outlinewidth": 0,
              "ticks": ""
             }
            },
            "type": "scattermapbox"
           }
          ],
          "scatterpolar": [
           {
            "marker": {
             "colorbar": {
              "outlinewidth": 0,
              "ticks": ""
             }
            },
            "type": "scatterpolar"
           }
          ],
          "scatterpolargl": [
           {
            "marker": {
             "colorbar": {
              "outlinewidth": 0,
              "ticks": ""
             }
            },
            "type": "scatterpolargl"
           }
          ],
          "scatterternary": [
           {
            "marker": {
             "colorbar": {
              "outlinewidth": 0,
              "ticks": ""
             }
            },
            "type": "scatterternary"
           }
          ],
          "surface": [
           {
            "colorbar": {
             "outlinewidth": 0,
             "ticks": ""
            },
            "colorscale": [
             [
              0,
              "#0d0887"
             ],
             [
              0.1111111111111111,
              "#46039f"
             ],
             [
              0.2222222222222222,
              "#7201a8"
             ],
             [
              0.3333333333333333,
              "#9c179e"
             ],
             [
              0.4444444444444444,
              "#bd3786"
             ],
             [
              0.5555555555555556,
              "#d8576b"
             ],
             [
              0.6666666666666666,
              "#ed7953"
             ],
             [
              0.7777777777777778,
              "#fb9f3a"
             ],
             [
              0.8888888888888888,
              "#fdca26"
             ],
             [
              1,
              "#f0f921"
             ]
            ],
            "type": "surface"
           }
          ],
          "table": [
           {
            "cells": {
             "fill": {
              "color": "#EBF0F8"
             },
             "line": {
              "color": "white"
             }
            },
            "header": {
             "fill": {
              "color": "#C8D4E3"
             },
             "line": {
              "color": "white"
             }
            },
            "type": "table"
           }
          ]
         },
         "layout": {
          "annotationdefaults": {
           "arrowcolor": "#2a3f5f",
           "arrowhead": 0,
           "arrowwidth": 1
          },
          "autotypenumbers": "strict",
          "coloraxis": {
           "colorbar": {
            "outlinewidth": 0,
            "ticks": ""
           }
          },
          "colorscale": {
           "diverging": [
            [
             0,
             "#8e0152"
            ],
            [
             0.1,
             "#c51b7d"
            ],
            [
             0.2,
             "#de77ae"
            ],
            [
             0.3,
             "#f1b6da"
            ],
            [
             0.4,
             "#fde0ef"
            ],
            [
             0.5,
             "#f7f7f7"
            ],
            [
             0.6,
             "#e6f5d0"
            ],
            [
             0.7,
             "#b8e186"
            ],
            [
             0.8,
             "#7fbc41"
            ],
            [
             0.9,
             "#4d9221"
            ],
            [
             1,
             "#276419"
            ]
           ],
           "sequential": [
            [
             0,
             "#0d0887"
            ],
            [
             0.1111111111111111,
             "#46039f"
            ],
            [
             0.2222222222222222,
             "#7201a8"
            ],
            [
             0.3333333333333333,
             "#9c179e"
            ],
            [
             0.4444444444444444,
             "#bd3786"
            ],
            [
             0.5555555555555556,
             "#d8576b"
            ],
            [
             0.6666666666666666,
             "#ed7953"
            ],
            [
             0.7777777777777778,
             "#fb9f3a"
            ],
            [
             0.8888888888888888,
             "#fdca26"
            ],
            [
             1,
             "#f0f921"
            ]
           ],
           "sequentialminus": [
            [
             0,
             "#0d0887"
            ],
            [
             0.1111111111111111,
             "#46039f"
            ],
            [
             0.2222222222222222,
             "#7201a8"
            ],
            [
             0.3333333333333333,
             "#9c179e"
            ],
            [
             0.4444444444444444,
             "#bd3786"
            ],
            [
             0.5555555555555556,
             "#d8576b"
            ],
            [
             0.6666666666666666,
             "#ed7953"
            ],
            [
             0.7777777777777778,
             "#fb9f3a"
            ],
            [
             0.8888888888888888,
             "#fdca26"
            ],
            [
             1,
             "#f0f921"
            ]
           ]
          },
          "colorway": [
           "#636efa",
           "#EF553B",
           "#00cc96",
           "#ab63fa",
           "#FFA15A",
           "#19d3f3",
           "#FF6692",
           "#B6E880",
           "#FF97FF",
           "#FECB52"
          ],
          "font": {
           "color": "#2a3f5f"
          },
          "geo": {
           "bgcolor": "white",
           "lakecolor": "white",
           "landcolor": "#E5ECF6",
           "showlakes": true,
           "showland": true,
           "subunitcolor": "white"
          },
          "hoverlabel": {
           "align": "left"
          },
          "hovermode": "closest",
          "mapbox": {
           "style": "light"
          },
          "paper_bgcolor": "white",
          "plot_bgcolor": "#E5ECF6",
          "polar": {
           "angularaxis": {
            "gridcolor": "white",
            "linecolor": "white",
            "ticks": ""
           },
           "bgcolor": "#E5ECF6",
           "radialaxis": {
            "gridcolor": "white",
            "linecolor": "white",
            "ticks": ""
           }
          },
          "scene": {
           "xaxis": {
            "backgroundcolor": "#E5ECF6",
            "gridcolor": "white",
            "gridwidth": 2,
            "linecolor": "white",
            "showbackground": true,
            "ticks": "",
            "zerolinecolor": "white"
           },
           "yaxis": {
            "backgroundcolor": "#E5ECF6",
            "gridcolor": "white",
            "gridwidth": 2,
            "linecolor": "white",
            "showbackground": true,
            "ticks": "",
            "zerolinecolor": "white"
           },
           "zaxis": {
            "backgroundcolor": "#E5ECF6",
            "gridcolor": "white",
            "gridwidth": 2,
            "linecolor": "white",
            "showbackground": true,
            "ticks": "",
            "zerolinecolor": "white"
           }
          },
          "shapedefaults": {
           "line": {
            "color": "#2a3f5f"
           }
          },
          "ternary": {
           "aaxis": {
            "gridcolor": "white",
            "linecolor": "white",
            "ticks": ""
           },
           "baxis": {
            "gridcolor": "white",
            "linecolor": "white",
            "ticks": ""
           },
           "bgcolor": "#E5ECF6",
           "caxis": {
            "gridcolor": "white",
            "linecolor": "white",
            "ticks": ""
           }
          },
          "title": {
           "x": 0.05
          },
          "xaxis": {
           "automargin": true,
           "gridcolor": "white",
           "linecolor": "white",
           "ticks": "",
           "title": {
            "standoff": 15
           },
           "zerolinecolor": "white",
           "zerolinewidth": 2
          },
          "yaxis": {
           "automargin": true,
           "gridcolor": "white",
           "linecolor": "white",
           "ticks": "",
           "title": {
            "standoff": 15
           },
           "zerolinecolor": "white",
           "zerolinewidth": 2
          }
         }
        },
        "title": {},
        "width": 400
       }
      }
     },
     "metadata": {},
     "output_type": "display_data"
    }
   ],
   "source": [
    "import matplotlib.pyplot as plt\n",
    "import seaborn as sns\n",
    "import plotly.express as px\n",
    "import pandas as pd\n",
    "\n",
    "data = pd.DataFrame(\n",
    "    {'section': section_list,\n",
    "     'coverage': [coverage_pd[i].head(100).mean() for i in section_list]\n",
    "    })\n",
    "\n",
    "labels = ['Dataset<br>Description', 'Dataset<br>Structure', 'Dataset<br>Creation', 'Considerations<br>for Using the Data', 'Additional<br>Information', 'Other']\n",
    "\n",
    "fig = px.pie(data, values='coverage', names='section', color_discrete_sequence=px.colors.sequential.Redor)\n",
    "# change value to be displayed inside the pie chart and add labels, value should be in percentage format\n",
    "values = data['coverage'].values*100\n",
    "values = [f'{value:.1f}%' for value in values]\n",
    "\n",
    "fig.update_traces(textposition='inside', textinfo='text+label', labels=labels, text=values)\n",
    "\n",
    "\n",
    "# add annotation \"Considerations for Using the Data\"\n",
    "fig.add_annotation(x=0.69, y=0.2, ax=-15, ay=-60,\n",
    "            text=\"Considerations for<br>Using the Data: {:.1f}%\".format(data.loc[data['section'] == 'considerations for using the data', 'coverage'].values[0]*100),\n",
    "            arrowhead=1, showarrow=True,\n",
    "            borderpad=3,\n",
    "            # set arrow color to white\n",
    "            arrowcolor=\"white\",\n",
    "            # set text color to black\n",
    "            font=dict(\n",
    "                color=\"black\",\n",
    "                size=16\n",
    "                ),\n",
    "            bgcolor=\"#ffffff\",\n",
    "            opacity=0.8)\n",
    "\n",
    "fig.update_layout(title_text=\"Average Coverage of Dataset Card Sections\")\n",
    "# customize the text color of each section\n",
    "fig.update_traces(textfont_color=['black', 'black', 'black', 'white', 'black', 'white'])\n",
    "# change the boldness of the text\n",
    "fig.update_traces(textfont_size=[16, 16, 14, 14, 14, 16])\n",
    "\n",
    "fig.update_layout(showlegend=False)\n",
    "fig.update_layout(title_text=None)\n",
    "\n",
    "# update figure size\n",
    "fig.update_layout(\n",
    "    autosize=False,\n",
    "    width=400,\n",
    "    height=300,\n",
    "    margin=dict(l=0, r=0, b=0, t=0, pad=0)\n",
    ")\n",
    "fig.show()\n",
    "\n",
    "\n",
    "# import plotly.io as pio\n",
    "\n",
    "# # Save the figure with a high resolution (dpi=300)\n",
    "# pio.write_image(fig, 'Figure3_pie_chart.jpeg', width=400, height=300, scale=10)"
   ]
  },
  {
   "cell_type": "code",
   "execution_count": 16,
   "metadata": {},
   "outputs": [
    {
     "data": {
      "application/vnd.plotly.v1+json": {
       "config": {
        "plotlyServerURL": "https://plot.ly"
       },
       "data": [
        {
         "mode": "lines",
         "name": "Dataset Description",
         "type": "scatter",
         "x": [
          50,
          124.57575757575758,
          199.15151515151516,
          273.72727272727275,
          348.3030303030303,
          422.8787878787879,
          497.4545454545455,
          572.030303030303,
          646.6060606060606,
          721.1818181818182,
          795.7575757575758,
          870.3333333333334,
          944.909090909091,
          1019.4848484848485,
          1094.060606060606,
          1168.6363636363637,
          1243.2121212121212,
          1317.7878787878788,
          1392.3636363636365,
          1466.939393939394,
          1541.5151515151515,
          1616.0909090909092,
          1690.6666666666667,
          1765.2424242424242,
          1839.818181818182,
          1914.3939393939395,
          1988.969696969697,
          2063.5454545454545,
          2138.121212121212,
          2212.69696969697,
          2287.2727272727275,
          2361.848484848485,
          2436.4242424242425,
          2511,
          2585.5757575757575,
          2660.151515151515,
          2734.727272727273,
          2809.3030303030305,
          2883.878787878788,
          2958.4545454545455,
          3033.030303030303,
          3107.6060606060605,
          3182.1818181818185,
          3256.757575757576,
          3331.3333333333335,
          3405.909090909091,
          3480.4848484848485,
          3555.060606060606,
          3629.636363636364,
          3704.2121212121215,
          3778.787878787879,
          3853.3636363636365,
          3927.939393939394,
          4002.5151515151515,
          4077.090909090909,
          4151.666666666667,
          4226.242424242424,
          4300.818181818182,
          4375.39393939394,
          4449.969696969697,
          4524.545454545455,
          4599.121212121212,
          4673.69696969697,
          4748.272727272727,
          4822.848484848485,
          4897.424242424243,
          4972,
          5046.575757575758,
          5121.151515151515,
          5195.727272727273,
          5270.30303030303,
          5344.878787878788,
          5419.454545454546,
          5494.030303030303,
          5568.606060606061,
          5643.181818181818,
          5717.757575757576,
          5792.333333333334,
          5866.909090909091,
          5941.484848484849,
          6016.060606060606,
          6090.636363636364,
          6165.212121212121,
          6239.787878787879,
          6314.363636363637,
          6388.939393939394,
          6463.515151515152,
          6538.090909090909,
          6612.666666666667,
          6687.242424242424,
          6761.818181818182,
          6836.39393939394,
          6910.969696969697,
          6985.545454545455,
          7060.121212121212,
          7134.69696969697,
          7209.272727272728,
          7283.848484848485,
          7358.424242424243,
          7433
         ],
         "y": [
          0.367990961576925,
          0.34251569696452755,
          0.33283091168579876,
          0.33563495145074884,
          0.3392699714979837,
          0.33797650703330073,
          0.34787404669746996,
          0.3516799165899971,
          0.3465850199896883,
          0.34298342165023277,
          0.34270494240882804,
          0.33765822453103045,
          0.3351907687325046,
          0.33644268604541727,
          0.3411414487693901,
          0.3428984497858095,
          0.34178825333122004,
          0.3409777472243104,
          0.3379644598619778,
          0.32940482501453283,
          0.3309179172669319,
          0.33259772290018585,
          0.3339640318520111,
          0.3337038110212222,
          0.3295075793349754,
          0.3304010643592627,
          0.3301900760562061,
          0.33038983781086184,
          0.33310635933112437,
          0.33862223610010395,
          0.3461506237677768,
          0.3446451057148258,
          0.346308956648718,
          0.34590379515749,
          0.34658898627314116,
          0.3468490542395435,
          0.34697243286705065,
          0.34798709431614694,
          0.3470430075308794,
          0.346721042394741,
          0.34746478239881484,
          0.3493870404619555,
          0.3505798809104521,
          0.35019821685919694,
          0.3493801890266582,
          0.3487111532447152,
          0.3460876773340081,
          0.3448498301039831,
          0.3416266110549448,
          0.3393309724770181,
          0.33726430071062224,
          0.3348396193597092,
          0.3323870866667501,
          0.33027895374212246,
          0.3273134539593378,
          0.3260322236354503,
          0.3240575464114641,
          0.321888271275964,
          0.3192449851657326,
          0.3152977958091761,
          0.3114240514175347,
          0.3083441161795508,
          0.3043090550054143,
          0.30199319029749566,
          0.2991664464982139,
          0.2960488055042914,
          0.2943262769773907,
          0.29155197980653946,
          0.2887148423495727,
          0.28627358646533074,
          0.28251668377199957,
          0.27998913082864746,
          0.27705426456529986,
          0.2745680957219863,
          0.27310789464137103,
          0.2703012470120613,
          0.2678919172186063,
          0.2650869154488905,
          0.26361236145243006,
          0.2620249077554565,
          0.2601036714980235,
          0.257749701007702,
          0.25575306018826877,
          0.2537118069317181,
          0.25212407926952285,
          0.2505679287613846,
          0.248977730004084,
          0.24752768855952864,
          0.24589411643183237,
          0.2438393093183134,
          0.24319400769556127,
          0.2417977713721865,
          0.24052808021204594,
          0.23953378491074986,
          0.23789325217132898,
          0.2369234360199685,
          0.23553283703536562,
          0.2336201075548516,
          0.2323229545900484,
          0.23127532581280316
         ]
        },
        {
         "mode": "lines",
         "name": "Dataset Structure",
         "type": "scatter",
         "x": [
          50,
          124.57575757575758,
          199.15151515151516,
          273.72727272727275,
          348.3030303030303,
          422.8787878787879,
          497.4545454545455,
          572.030303030303,
          646.6060606060606,
          721.1818181818182,
          795.7575757575758,
          870.3333333333334,
          944.909090909091,
          1019.4848484848485,
          1094.060606060606,
          1168.6363636363637,
          1243.2121212121212,
          1317.7878787878788,
          1392.3636363636365,
          1466.939393939394,
          1541.5151515151515,
          1616.0909090909092,
          1690.6666666666667,
          1765.2424242424242,
          1839.818181818182,
          1914.3939393939395,
          1988.969696969697,
          2063.5454545454545,
          2138.121212121212,
          2212.69696969697,
          2287.2727272727275,
          2361.848484848485,
          2436.4242424242425,
          2511,
          2585.5757575757575,
          2660.151515151515,
          2734.727272727273,
          2809.3030303030305,
          2883.878787878788,
          2958.4545454545455,
          3033.030303030303,
          3107.6060606060605,
          3182.1818181818185,
          3256.757575757576,
          3331.3333333333335,
          3405.909090909091,
          3480.4848484848485,
          3555.060606060606,
          3629.636363636364,
          3704.2121212121215,
          3778.787878787879,
          3853.3636363636365,
          3927.939393939394,
          4002.5151515151515,
          4077.090909090909,
          4151.666666666667,
          4226.242424242424,
          4300.818181818182,
          4375.39393939394,
          4449.969696969697,
          4524.545454545455,
          4599.121212121212,
          4673.69696969697,
          4748.272727272727,
          4822.848484848485,
          4897.424242424243,
          4972,
          5046.575757575758,
          5121.151515151515,
          5195.727272727273,
          5270.30303030303,
          5344.878787878788,
          5419.454545454546,
          5494.030303030303,
          5568.606060606061,
          5643.181818181818,
          5717.757575757576,
          5792.333333333334,
          5866.909090909091,
          5941.484848484849,
          6016.060606060606,
          6090.636363636364,
          6165.212121212121,
          6239.787878787879,
          6314.363636363637,
          6388.939393939394,
          6463.515151515152,
          6538.090909090909,
          6612.666666666667,
          6687.242424242424,
          6761.818181818182,
          6836.39393939394,
          6910.969696969697,
          6985.545454545455,
          7060.121212121212,
          7134.69696969697,
          7209.272727272728,
          7283.848484848485,
          7358.424242424243,
          7433
         ],
         "y": [
          0.3443240731650766,
          0.3253216774929229,
          0.31355864640521186,
          0.31264871920612586,
          0.3098468221616735,
          0.3118405697379378,
          0.3019400790179639,
          0.29754076882331315,
          0.29160173158840746,
          0.2896256023223375,
          0.28187132183253305,
          0.28003480741137965,
          0.2804161255191949,
          0.27836337431990715,
          0.2750402851549983,
          0.27439276676516733,
          0.2728916518247717,
          0.2676690932604385,
          0.25771259494567994,
          0.2510295267070817,
          0.25723437705481544,
          0.263185801500462,
          0.2664772901651069,
          0.26192410369281305,
          0.25551236804735217,
          0.2514395740991274,
          0.24691486277465785,
          0.2435986803492162,
          0.24078159352459977,
          0.23690067597187517,
          0.23345202588337802,
          0.2306776395152675,
          0.22805912056791014,
          0.2268901527633036,
          0.2241900509509749,
          0.22346049933426032,
          0.22175409725383385,
          0.2206888657884089,
          0.22063661262793924,
          0.21963247521879425,
          0.21811283544111693,
          0.21724527071693686,
          0.21607559487925626,
          0.2157884300251771,
          0.21372959660121252,
          0.21131085923821333,
          0.20983332113753556,
          0.2078837959317008,
          0.20566163176664254,
          0.20320918668697768,
          0.20132686917841153,
          0.19952781828428218,
          0.19723379019226775,
          0.19514255145245643,
          0.19440973774764306,
          0.19231387568805222,
          0.19036237387969837,
          0.18795575049908483,
          0.18496009492054352,
          0.18230408615009674,
          0.1796308403702895,
          0.1776955157211996,
          0.17520240198162676,
          0.17277214971171462,
          0.17082539160359425,
          0.16839784486540627,
          0.16630612985282212,
          0.16418450083482203,
          0.16203694300530563,
          0.15994172198964982,
          0.15782865990238612,
          0.1558132725663671,
          0.1537731359631118,
          0.1518061594854637,
          0.15013058200739543,
          0.14844807707672308,
          0.14678105019864787,
          0.14500541905522737,
          0.14345450468484627,
          0.14198628309159117,
          0.14051522105905795,
          0.13906741724599805,
          0.13781544393448192,
          0.13642345791440333,
          0.13497837833539483,
          0.13362096785384403,
          0.13236168052364705,
          0.1310881583153464,
          0.1297775802648469,
          0.1285354817511775,
          0.12731649260279468,
          0.12602539987721198,
          0.1251246552371581,
          0.1239980700363513,
          0.12294509281372124,
          0.12185992059850877,
          0.12072911044507835,
          0.1196335775074386,
          0.11854729383568978,
          0.11750414350182513
         ]
        },
        {
         "mode": "lines",
         "name": "Dataset Creation",
         "type": "scatter",
         "x": [
          50,
          124.57575757575758,
          199.15151515151516,
          273.72727272727275,
          348.3030303030303,
          422.8787878787879,
          497.4545454545455,
          572.030303030303,
          646.6060606060606,
          721.1818181818182,
          795.7575757575758,
          870.3333333333334,
          944.909090909091,
          1019.4848484848485,
          1094.060606060606,
          1168.6363636363637,
          1243.2121212121212,
          1317.7878787878788,
          1392.3636363636365,
          1466.939393939394,
          1541.5151515151515,
          1616.0909090909092,
          1690.6666666666667,
          1765.2424242424242,
          1839.818181818182,
          1914.3939393939395,
          1988.969696969697,
          2063.5454545454545,
          2138.121212121212,
          2212.69696969697,
          2287.2727272727275,
          2361.848484848485,
          2436.4242424242425,
          2511,
          2585.5757575757575,
          2660.151515151515,
          2734.727272727273,
          2809.3030303030305,
          2883.878787878788,
          2958.4545454545455,
          3033.030303030303,
          3107.6060606060605,
          3182.1818181818185,
          3256.757575757576,
          3331.3333333333335,
          3405.909090909091,
          3480.4848484848485,
          3555.060606060606,
          3629.636363636364,
          3704.2121212121215,
          3778.787878787879,
          3853.3636363636365,
          3927.939393939394,
          4002.5151515151515,
          4077.090909090909,
          4151.666666666667,
          4226.242424242424,
          4300.818181818182,
          4375.39393939394,
          4449.969696969697,
          4524.545454545455,
          4599.121212121212,
          4673.69696969697,
          4748.272727272727,
          4822.848484848485,
          4897.424242424243,
          4972,
          5046.575757575758,
          5121.151515151515,
          5195.727272727273,
          5270.30303030303,
          5344.878787878788,
          5419.454545454546,
          5494.030303030303,
          5568.606060606061,
          5643.181818181818,
          5717.757575757576,
          5792.333333333334,
          5866.909090909091,
          5941.484848484849,
          6016.060606060606,
          6090.636363636364,
          6165.212121212121,
          6239.787878787879,
          6314.363636363637,
          6388.939393939394,
          6463.515151515152,
          6538.090909090909,
          6612.666666666667,
          6687.242424242424,
          6761.818181818182,
          6836.39393939394,
          6910.969696969697,
          6985.545454545455,
          7060.121212121212,
          7134.69696969697,
          7209.272727272728,
          7283.848484848485,
          7358.424242424243,
          7433
         ],
         "y": [
          0.09451055967918354,
          0.11196612548193995,
          0.09992092392674307,
          0.09920523228461656,
          0.10229652846836779,
          0.10611589527040277,
          0.10511161628778722,
          0.10113790721055989,
          0.10010873002412046,
          0.10510931152397396,
          0.10688865243077836,
          0.10710858257178688,
          0.10387473008911846,
          0.104060352578817,
          0.1061484010855185,
          0.10566034155661302,
          0.10525449912825093,
          0.10527968321435939,
          0.10135292774042509,
          0.09874271902906524,
          0.09393694101012956,
          0.08957724387166438,
          0.08686896951638197,
          0.08632607260688123,
          0.08481744845792188,
          0.08408083067949047,
          0.0837758783771316,
          0.08269943605645834,
          0.08182762315175432,
          0.08130457749978838,
          0.08009897339657934,
          0.0798928794545467,
          0.07858406534126504,
          0.07926789007518736,
          0.0795460870832621,
          0.07930097659114804,
          0.07875276950336117,
          0.0788710730688756,
          0.0782126459765797,
          0.07811856337577451,
          0.0775504406730635,
          0.07857996877745767,
          0.07970920830236489,
          0.0809250759069584,
          0.08030569077068701,
          0.07972359446180442,
          0.07919132367449859,
          0.0783669529194847,
          0.07779314830117678,
          0.07742188686971604,
          0.07681760033019457,
          0.0759588157825971,
          0.07578553191815096,
          0.07536137238651412,
          0.07479208112290699,
          0.07450329862864738,
          0.07416588702415754,
          0.0732906170853571,
          0.07203420650675098,
          0.07085162799901171,
          0.06978227841575875,
          0.0689140599018837,
          0.06798593226808541,
          0.06692556633827786,
          0.06589850455705998,
          0.06496013501116694,
          0.06401327882420067,
          0.06316810574478612,
          0.06226013038410025,
          0.061373268084115,
          0.06049983447760481,
          0.059662074793596066,
          0.05891465822397184,
          0.05824264060567736,
          0.05746858252291513,
          0.056778966673807454,
          0.0560440281511799,
          0.05533990140543776,
          0.0547709237550266,
          0.05418183876062465,
          0.0535224947899653,
          0.05305899179136854,
          0.052464338576459754,
          0.05185417995179086,
          0.051251706162098995,
          0.050756484309183954,
          0.05016747977209765,
          0.049639343416322715,
          0.04913336633844369,
          0.04864302900535678,
          0.048110624901467364,
          0.047582787442776595,
          0.047256593089217376,
          0.0467491851462408,
          0.04626829594300328,
          0.04581772200968077,
          0.045349586250326146,
          0.04494393293120317,
          0.04454877055205243,
          0.044099267284004005
         ]
        },
        {
         "mode": "lines",
         "name": "Considerations for Using the Data",
         "type": "scatter",
         "x": [
          50,
          124.57575757575758,
          199.15151515151516,
          273.72727272727275,
          348.3030303030303,
          422.8787878787879,
          497.4545454545455,
          572.030303030303,
          646.6060606060606,
          721.1818181818182,
          795.7575757575758,
          870.3333333333334,
          944.909090909091,
          1019.4848484848485,
          1094.060606060606,
          1168.6363636363637,
          1243.2121212121212,
          1317.7878787878788,
          1392.3636363636365,
          1466.939393939394,
          1541.5151515151515,
          1616.0909090909092,
          1690.6666666666667,
          1765.2424242424242,
          1839.818181818182,
          1914.3939393939395,
          1988.969696969697,
          2063.5454545454545,
          2138.121212121212,
          2212.69696969697,
          2287.2727272727275,
          2361.848484848485,
          2436.4242424242425,
          2511,
          2585.5757575757575,
          2660.151515151515,
          2734.727272727273,
          2809.3030303030305,
          2883.878787878788,
          2958.4545454545455,
          3033.030303030303,
          3107.6060606060605,
          3182.1818181818185,
          3256.757575757576,
          3331.3333333333335,
          3405.909090909091,
          3480.4848484848485,
          3555.060606060606,
          3629.636363636364,
          3704.2121212121215,
          3778.787878787879,
          3853.3636363636365,
          3927.939393939394,
          4002.5151515151515,
          4077.090909090909,
          4151.666666666667,
          4226.242424242424,
          4300.818181818182,
          4375.39393939394,
          4449.969696969697,
          4524.545454545455,
          4599.121212121212,
          4673.69696969697,
          4748.272727272727,
          4822.848484848485,
          4897.424242424243,
          4972,
          5046.575757575758,
          5121.151515151515,
          5195.727272727273,
          5270.30303030303,
          5344.878787878788,
          5419.454545454546,
          5494.030303030303,
          5568.606060606061,
          5643.181818181818,
          5717.757575757576,
          5792.333333333334,
          5866.909090909091,
          5941.484848484849,
          6016.060606060606,
          6090.636363636364,
          6165.212121212121,
          6239.787878787879,
          6314.363636363637,
          6388.939393939394,
          6463.515151515152,
          6538.090909090909,
          6612.666666666667,
          6687.242424242424,
          6761.818181818182,
          6836.39393939394,
          6910.969696969697,
          6985.545454545455,
          7060.121212121212,
          7134.69696969697,
          7209.272727272728,
          7283.848484848485,
          7358.424242424243,
          7433
         ],
         "y": [
          0.02143797139618937,
          0.0263915350326627,
          0.02521575773234213,
          0.02251714884133348,
          0.022661878514968807,
          0.021988565098577075,
          0.02339415641179419,
          0.02367922629196591,
          0.024423035605816643,
          0.025348116230006563,
          0.025555980998053788,
          0.025490590343527353,
          0.025037310869999448,
          0.024974425506968115,
          0.024173282860883886,
          0.024249880495469524,
          0.02369239920784356,
          0.024686843896735852,
          0.02403790085291228,
          0.023368987129760863,
          0.022231625653620656,
          0.021199836096676625,
          0.020455747918629134,
          0.02053244651983435,
          0.020035312493679926,
          0.01975496858907906,
          0.019589566452450437,
          0.019570991378289052,
          0.019406322044365685,
          0.019212296330106824,
          0.01890912293709353,
          0.018401198730375174,
          0.01831838192689489,
          0.018146336204712985,
          0.018037189817204338,
          0.01787171762517464,
          0.01791646156729393,
          0.017752809209627955,
          0.018184989087439936,
          0.018363660764632816,
          0.01830387703950684,
          0.018523240120297064,
          0.01854774928873361,
          0.01903711259983391,
          0.018849591031947527,
          0.018821504683553685,
          0.01912844911021468,
          0.019079215403639087,
          0.019047286208208183,
          0.019073719640707275,
          0.0189199308592954,
          0.018876493841036835,
          0.01896832130790245,
          0.018917567935356795,
          0.018832600036824916,
          0.018738391413974726,
          0.018767415467216234,
          0.018545374880309703,
          0.018227454168075825,
          0.017927339373047715,
          0.017693006557400852,
          0.017462571894632364,
          0.017186040689795474,
          0.016914567848233836,
          0.01665499131966285,
          0.016461596648758108,
          0.016213282137765173,
          0.01609373512792285,
          0.01585803309031414,
          0.015632143879788007,
          0.015409675038994064,
          0.015196292562780446,
          0.01501571396830696,
          0.014913191076427683,
          0.014714991338702169,
          0.014543684998946116,
          0.014355433697577911,
          0.014169546693551954,
          0.014066062714458774,
          0.013941601304849713,
          0.013777256389426102,
          0.013609848019505325,
          0.013458725590380919,
          0.013299093326606566,
          0.013148553070290265,
          0.013076235494680297,
          0.01292449208417418,
          0.01280062894854316,
          0.012657367221048878,
          0.012523211357772561,
          0.012386143225769131,
          0.012250250782537319,
          0.012126991153396969,
          0.011996780081599578,
          0.011869335533990518,
          0.011775577281950167,
          0.011653068155005204,
          0.011539116748874223,
          0.011421498679267596,
          0.011306254174902592
         ]
        },
        {
         "mode": "lines",
         "name": "Additional Information",
         "type": "scatter",
         "x": [
          50,
          124.57575757575758,
          199.15151515151516,
          273.72727272727275,
          348.3030303030303,
          422.8787878787879,
          497.4545454545455,
          572.030303030303,
          646.6060606060606,
          721.1818181818182,
          795.7575757575758,
          870.3333333333334,
          944.909090909091,
          1019.4848484848485,
          1094.060606060606,
          1168.6363636363637,
          1243.2121212121212,
          1317.7878787878788,
          1392.3636363636365,
          1466.939393939394,
          1541.5151515151515,
          1616.0909090909092,
          1690.6666666666667,
          1765.2424242424242,
          1839.818181818182,
          1914.3939393939395,
          1988.969696969697,
          2063.5454545454545,
          2138.121212121212,
          2212.69696969697,
          2287.2727272727275,
          2361.848484848485,
          2436.4242424242425,
          2511,
          2585.5757575757575,
          2660.151515151515,
          2734.727272727273,
          2809.3030303030305,
          2883.878787878788,
          2958.4545454545455,
          3033.030303030303,
          3107.6060606060605,
          3182.1818181818185,
          3256.757575757576,
          3331.3333333333335,
          3405.909090909091,
          3480.4848484848485,
          3555.060606060606,
          3629.636363636364,
          3704.2121212121215,
          3778.787878787879,
          3853.3636363636365,
          3927.939393939394,
          4002.5151515151515,
          4077.090909090909,
          4151.666666666667,
          4226.242424242424,
          4300.818181818182,
          4375.39393939394,
          4449.969696969697,
          4524.545454545455,
          4599.121212121212,
          4673.69696969697,
          4748.272727272727,
          4822.848484848485,
          4897.424242424243,
          4972,
          5046.575757575758,
          5121.151515151515,
          5195.727272727273,
          5270.30303030303,
          5344.878787878788,
          5419.454545454546,
          5494.030303030303,
          5568.606060606061,
          5643.181818181818,
          5717.757575757576,
          5792.333333333334,
          5866.909090909091,
          5941.484848484849,
          6016.060606060606,
          6090.636363636364,
          6165.212121212121,
          6239.787878787879,
          6314.363636363637,
          6388.939393939394,
          6463.515151515152,
          6538.090909090909,
          6612.666666666667,
          6687.242424242424,
          6761.818181818182,
          6836.39393939394,
          6910.969696969697,
          6985.545454545455,
          7060.121212121212,
          7134.69696969697,
          7209.272727272728,
          7283.848484848485,
          7358.424242424243,
          7433
         ],
         "y": [
          0.11616959831122095,
          0.09906197240548024,
          0.10163910098112842,
          0.10575531197734156,
          0.10987977219379878,
          0.11087638659872993,
          0.10809471007970967,
          0.10494293287684163,
          0.10161287602802006,
          0.09980177014947524,
          0.10216116693022165,
          0.10190688427083477,
          0.10031958969950544,
          0.10096439128648581,
          0.10189308557554903,
          0.10277015783123138,
          0.10276849738849891,
          0.10180277812789319,
          0.09817022178413701,
          0.09387951045104022,
          0.09018767954125685,
          0.08685388902103632,
          0.08425841926577922,
          0.08301742355971423,
          0.08227452151804794,
          0.0815112670272493,
          0.0799736404962037,
          0.07947164389468729,
          0.07931344417099033,
          0.07819688841715418,
          0.07737415092766906,
          0.07734063770254125,
          0.07597149412878929,
          0.07570452689747272,
          0.07487011613673955,
          0.07498010439931754,
          0.0746933367465062,
          0.07519989998269655,
          0.07508630947841485,
          0.07525741963068769,
          0.07510767397967234,
          0.07567289613412209,
          0.0755786342291744,
          0.07566565745389925,
          0.0757604961902364,
          0.07552166047014114,
          0.07503562830488232,
          0.07472420673844751,
          0.07441069027864304,
          0.07358557415214749,
          0.07355756289145225,
          0.07323885500652229,
          0.07225224686474498,
          0.0722951791692147,
          0.07222252795854826,
          0.07214176192890397,
          0.07199324337820107,
          0.07241722066007504,
          0.07483003394887383,
          0.0821168168023776,
          0.08960718959551588,
          0.09483167337962455,
          0.10048927506158561,
          0.10650658361712756,
          0.1117287905078206,
          0.11747720832437442,
          0.1232183139560942,
          0.12797349040693048,
          0.13351161324912691,
          0.1375170067650969,
          0.1438220386483903,
          0.14828751029892692,
          0.15337808603259653,
          0.15752347220614604,
          0.1616965005053526,
          0.16313506964602098,
          0.1669661833873382,
          0.17080655355922836,
          0.17449244968686098,
          0.17848634274694727,
          0.18197130546082715,
          0.18549352047697723,
          0.18932683359175007,
          0.19284398005656841,
          0.19551957979427415,
          0.19870738194312745,
          0.20097655637578837,
          0.20339583833622174,
          0.20629099752730837,
          0.20996093723858822,
          0.2118469678329785,
          0.2150083753085344,
          0.21664486287462376,
          0.21832921172855613,
          0.22096342532524127,
          0.22307883129253345,
          0.22537479769085572,
          0.22758553605463908,
          0.228697784257501,
          0.23021185420022286
         ]
        },
        {
         "mode": "lines",
         "name": "Other",
         "type": "scatter",
         "x": [
          50,
          124.57575757575758,
          199.15151515151516,
          273.72727272727275,
          348.3030303030303,
          422.8787878787879,
          497.4545454545455,
          572.030303030303,
          646.6060606060606,
          721.1818181818182,
          795.7575757575758,
          870.3333333333334,
          944.909090909091,
          1019.4848484848485,
          1094.060606060606,
          1168.6363636363637,
          1243.2121212121212,
          1317.7878787878788,
          1392.3636363636365,
          1466.939393939394,
          1541.5151515151515,
          1616.0909090909092,
          1690.6666666666667,
          1765.2424242424242,
          1839.818181818182,
          1914.3939393939395,
          1988.969696969697,
          2063.5454545454545,
          2138.121212121212,
          2212.69696969697,
          2287.2727272727275,
          2361.848484848485,
          2436.4242424242425,
          2511,
          2585.5757575757575,
          2660.151515151515,
          2734.727272727273,
          2809.3030303030305,
          2883.878787878788,
          2958.4545454545455,
          3033.030303030303,
          3107.6060606060605,
          3182.1818181818185,
          3256.757575757576,
          3331.3333333333335,
          3405.909090909091,
          3480.4848484848485,
          3555.060606060606,
          3629.636363636364,
          3704.2121212121215,
          3778.787878787879,
          3853.3636363636365,
          3927.939393939394,
          4002.5151515151515,
          4077.090909090909,
          4151.666666666667,
          4226.242424242424,
          4300.818181818182,
          4375.39393939394,
          4449.969696969697,
          4524.545454545455,
          4599.121212121212,
          4673.69696969697,
          4748.272727272727,
          4822.848484848485,
          4897.424242424243,
          4972,
          5046.575757575758,
          5121.151515151515,
          5195.727272727273,
          5270.30303030303,
          5344.878787878788,
          5419.454545454546,
          5494.030303030303,
          5568.606060606061,
          5643.181818181818,
          5717.757575757576,
          5792.333333333334,
          5866.909090909091,
          5941.484848484849,
          6016.060606060606,
          6090.636363636364,
          6165.212121212121,
          6239.787878787879,
          6314.363636363637,
          6388.939393939394,
          6463.515151515152,
          6538.090909090909,
          6612.666666666667,
          6687.242424242424,
          6761.818181818182,
          6836.39393939394,
          6910.969696969697,
          6985.545454545455,
          7060.121212121212,
          7134.69696969697,
          7209.272727272728,
          7283.848484848485,
          7358.424242424243,
          7433
         ],
         "y": [
          0.0155668358714044,
          0.03829137971924076,
          0.04643264921852452,
          0.04731555931675679,
          0.044205946703437284,
          0.04011202886768675,
          0.03913871142479225,
          0.04409617128424537,
          0.05207727549459719,
          0.05391402500330824,
          0.057799067475056774,
          0.06274343960707308,
          0.06723774627611777,
          0.0678542403310994,
          0.06568027900338598,
          0.06612429397666815,
          0.0691316500445959,
          0.073782791254243,
          0.07803200975739659,
          0.0842019896494196,
          0.09127990853229809,
          0.09705580363967777,
          0.10087494956611524,
          0.10118169500746692,
          0.10550366737477633,
          0.10898784383513274,
          0.11078334002846096,
          0.11290731647267833,
          0.11179477938614585,
          0.1114956945778973,
          0.11065261948453,
          0.11265965027592086,
          0.11318491077886933,
          0.11509884808542557,
          0.11711573221449997,
          0.1184399034496537,
          0.11909158969911585,
          0.11923681868799982,
          0.11897032360953429,
          0.11890481021780383,
          0.1190489166794972,
          0.11736660792827167,
          0.11651710335167807,
          0.11557223934166658,
          0.11577209474011098,
          0.11671886373123452,
          0.11928681882966531,
          0.12207208891680942,
          0.1224636635284392,
          0.12242185671770986,
          0.1232413167605693,
          0.12340838474895136,
          0.1251199036205937,
          0.12885516225443233,
          0.13019875525378424,
          0.1315065000984351,
          0.133252882948176,
          0.13335505614206233,
          0.13528490513785593,
          0.1366371617679012,
          0.1382385950348062,
          0.13837173009733547,
          0.13988718143352408,
          0.14071036201323883,
          0.14162484883058488,
          0.14225883058418295,
          0.14184485206795153,
          0.14322019151424834,
          0.14430557897494253,
          0.14562316777930498,
          0.14619347805327557,
          0.1462622072233099,
          0.14774065893157506,
          0.1485607199968122,
          0.14874438887906746,
          0.15133749638479754,
          0.15223720496677712,
          0.15312150660946444,
          0.15288444256390674,
          0.15345996378107393,
          0.153973888790444,
          0.15447616174322182,
          0.1554062289920191,
          0.15649079474314223,
          0.15707096427026676,
          0.15712899308021347,
          0.15794110183037863,
          0.15840010891750136,
          0.15918741452357785,
          0.15970497754297838,
          0.16028802810088297,
          0.16058948913926163,
          0.16150909953692513,
          0.1624058312796473,
          0.16360802729688861,
          0.16458780538696688,
          0.16563925895218956,
          0.16647353441159798,
          0.16821881270004632,
          0.16878421910995914
         ]
        }
       ],
       "layout": {
        "autosize": false,
        "font": {
         "color": "black",
         "size": 14
        },
        "height": 400,
        "legend": {
         "font": {
          "size": 12
         },
         "orientation": "h",
         "title": {},
         "x": -0.01,
         "y": 1.01,
         "yanchor": "bottom"
        },
        "margin": {
         "b": 0,
         "l": 0,
         "pad": 0,
         "r": 10,
         "t": 100
        },
        "template": {
         "data": {
          "bar": [
           {
            "error_x": {
             "color": "#2a3f5f"
            },
            "error_y": {
             "color": "#2a3f5f"
            },
            "marker": {
             "line": {
              "color": "#E5ECF6",
              "width": 0.5
             },
             "pattern": {
              "fillmode": "overlay",
              "size": 10,
              "solidity": 0.2
             }
            },
            "type": "bar"
           }
          ],
          "barpolar": [
           {
            "marker": {
             "line": {
              "color": "#E5ECF6",
              "width": 0.5
             },
             "pattern": {
              "fillmode": "overlay",
              "size": 10,
              "solidity": 0.2
             }
            },
            "type": "barpolar"
           }
          ],
          "carpet": [
           {
            "aaxis": {
             "endlinecolor": "#2a3f5f",
             "gridcolor": "white",
             "linecolor": "white",
             "minorgridcolor": "white",
             "startlinecolor": "#2a3f5f"
            },
            "baxis": {
             "endlinecolor": "#2a3f5f",
             "gridcolor": "white",
             "linecolor": "white",
             "minorgridcolor": "white",
             "startlinecolor": "#2a3f5f"
            },
            "type": "carpet"
           }
          ],
          "choropleth": [
           {
            "colorbar": {
             "outlinewidth": 0,
             "ticks": ""
            },
            "type": "choropleth"
           }
          ],
          "contour": [
           {
            "colorbar": {
             "outlinewidth": 0,
             "ticks": ""
            },
            "colorscale": [
             [
              0,
              "#0d0887"
             ],
             [
              0.1111111111111111,
              "#46039f"
             ],
             [
              0.2222222222222222,
              "#7201a8"
             ],
             [
              0.3333333333333333,
              "#9c179e"
             ],
             [
              0.4444444444444444,
              "#bd3786"
             ],
             [
              0.5555555555555556,
              "#d8576b"
             ],
             [
              0.6666666666666666,
              "#ed7953"
             ],
             [
              0.7777777777777778,
              "#fb9f3a"
             ],
             [
              0.8888888888888888,
              "#fdca26"
             ],
             [
              1,
              "#f0f921"
             ]
            ],
            "type": "contour"
           }
          ],
          "contourcarpet": [
           {
            "colorbar": {
             "outlinewidth": 0,
             "ticks": ""
            },
            "type": "contourcarpet"
           }
          ],
          "heatmap": [
           {
            "colorbar": {
             "outlinewidth": 0,
             "ticks": ""
            },
            "colorscale": [
             [
              0,
              "#0d0887"
             ],
             [
              0.1111111111111111,
              "#46039f"
             ],
             [
              0.2222222222222222,
              "#7201a8"
             ],
             [
              0.3333333333333333,
              "#9c179e"
             ],
             [
              0.4444444444444444,
              "#bd3786"
             ],
             [
              0.5555555555555556,
              "#d8576b"
             ],
             [
              0.6666666666666666,
              "#ed7953"
             ],
             [
              0.7777777777777778,
              "#fb9f3a"
             ],
             [
              0.8888888888888888,
              "#fdca26"
             ],
             [
              1,
              "#f0f921"
             ]
            ],
            "type": "heatmap"
           }
          ],
          "heatmapgl": [
           {
            "colorbar": {
             "outlinewidth": 0,
             "ticks": ""
            },
            "colorscale": [
             [
              0,
              "#0d0887"
             ],
             [
              0.1111111111111111,
              "#46039f"
             ],
             [
              0.2222222222222222,
              "#7201a8"
             ],
             [
              0.3333333333333333,
              "#9c179e"
             ],
             [
              0.4444444444444444,
              "#bd3786"
             ],
             [
              0.5555555555555556,
              "#d8576b"
             ],
             [
              0.6666666666666666,
              "#ed7953"
             ],
             [
              0.7777777777777778,
              "#fb9f3a"
             ],
             [
              0.8888888888888888,
              "#fdca26"
             ],
             [
              1,
              "#f0f921"
             ]
            ],
            "type": "heatmapgl"
           }
          ],
          "histogram": [
           {
            "marker": {
             "pattern": {
              "fillmode": "overlay",
              "size": 10,
              "solidity": 0.2
             }
            },
            "type": "histogram"
           }
          ],
          "histogram2d": [
           {
            "colorbar": {
             "outlinewidth": 0,
             "ticks": ""
            },
            "colorscale": [
             [
              0,
              "#0d0887"
             ],
             [
              0.1111111111111111,
              "#46039f"
             ],
             [
              0.2222222222222222,
              "#7201a8"
             ],
             [
              0.3333333333333333,
              "#9c179e"
             ],
             [
              0.4444444444444444,
              "#bd3786"
             ],
             [
              0.5555555555555556,
              "#d8576b"
             ],
             [
              0.6666666666666666,
              "#ed7953"
             ],
             [
              0.7777777777777778,
              "#fb9f3a"
             ],
             [
              0.8888888888888888,
              "#fdca26"
             ],
             [
              1,
              "#f0f921"
             ]
            ],
            "type": "histogram2d"
           }
          ],
          "histogram2dcontour": [
           {
            "colorbar": {
             "outlinewidth": 0,
             "ticks": ""
            },
            "colorscale": [
             [
              0,
              "#0d0887"
             ],
             [
              0.1111111111111111,
              "#46039f"
             ],
             [
              0.2222222222222222,
              "#7201a8"
             ],
             [
              0.3333333333333333,
              "#9c179e"
             ],
             [
              0.4444444444444444,
              "#bd3786"
             ],
             [
              0.5555555555555556,
              "#d8576b"
             ],
             [
              0.6666666666666666,
              "#ed7953"
             ],
             [
              0.7777777777777778,
              "#fb9f3a"
             ],
             [
              0.8888888888888888,
              "#fdca26"
             ],
             [
              1,
              "#f0f921"
             ]
            ],
            "type": "histogram2dcontour"
           }
          ],
          "mesh3d": [
           {
            "colorbar": {
             "outlinewidth": 0,
             "ticks": ""
            },
            "type": "mesh3d"
           }
          ],
          "parcoords": [
           {
            "line": {
             "colorbar": {
              "outlinewidth": 0,
              "ticks": ""
             }
            },
            "type": "parcoords"
           }
          ],
          "pie": [
           {
            "automargin": true,
            "type": "pie"
           }
          ],
          "scatter": [
           {
            "fillpattern": {
             "fillmode": "overlay",
             "size": 10,
             "solidity": 0.2
            },
            "type": "scatter"
           }
          ],
          "scatter3d": [
           {
            "line": {
             "colorbar": {
              "outlinewidth": 0,
              "ticks": ""
             }
            },
            "marker": {
             "colorbar": {
              "outlinewidth": 0,
              "ticks": ""
             }
            },
            "type": "scatter3d"
           }
          ],
          "scattercarpet": [
           {
            "marker": {
             "colorbar": {
              "outlinewidth": 0,
              "ticks": ""
             }
            },
            "type": "scattercarpet"
           }
          ],
          "scattergeo": [
           {
            "marker": {
             "colorbar": {
              "outlinewidth": 0,
              "ticks": ""
             }
            },
            "type": "scattergeo"
           }
          ],
          "scattergl": [
           {
            "marker": {
             "colorbar": {
              "outlinewidth": 0,
              "ticks": ""
             }
            },
            "type": "scattergl"
           }
          ],
          "scattermapbox": [
           {
            "marker": {
             "colorbar": {
              "outlinewidth": 0,
              "ticks": ""
             }
            },
            "type": "scattermapbox"
           }
          ],
          "scatterpolar": [
           {
            "marker": {
             "colorbar": {
              "outlinewidth": 0,
              "ticks": ""
             }
            },
            "type": "scatterpolar"
           }
          ],
          "scatterpolargl": [
           {
            "marker": {
             "colorbar": {
              "outlinewidth": 0,
              "ticks": ""
             }
            },
            "type": "scatterpolargl"
           }
          ],
          "scatterternary": [
           {
            "marker": {
             "colorbar": {
              "outlinewidth": 0,
              "ticks": ""
             }
            },
            "type": "scatterternary"
           }
          ],
          "surface": [
           {
            "colorbar": {
             "outlinewidth": 0,
             "ticks": ""
            },
            "colorscale": [
             [
              0,
              "#0d0887"
             ],
             [
              0.1111111111111111,
              "#46039f"
             ],
             [
              0.2222222222222222,
              "#7201a8"
             ],
             [
              0.3333333333333333,
              "#9c179e"
             ],
             [
              0.4444444444444444,
              "#bd3786"
             ],
             [
              0.5555555555555556,
              "#d8576b"
             ],
             [
              0.6666666666666666,
              "#ed7953"
             ],
             [
              0.7777777777777778,
              "#fb9f3a"
             ],
             [
              0.8888888888888888,
              "#fdca26"
             ],
             [
              1,
              "#f0f921"
             ]
            ],
            "type": "surface"
           }
          ],
          "table": [
           {
            "cells": {
             "fill": {
              "color": "#EBF0F8"
             },
             "line": {
              "color": "white"
             }
            },
            "header": {
             "fill": {
              "color": "#C8D4E3"
             },
             "line": {
              "color": "white"
             }
            },
            "type": "table"
           }
          ]
         },
         "layout": {
          "annotationdefaults": {
           "arrowcolor": "#2a3f5f",
           "arrowhead": 0,
           "arrowwidth": 1
          },
          "autotypenumbers": "strict",
          "coloraxis": {
           "colorbar": {
            "outlinewidth": 0,
            "ticks": ""
           }
          },
          "colorscale": {
           "diverging": [
            [
             0,
             "#8e0152"
            ],
            [
             0.1,
             "#c51b7d"
            ],
            [
             0.2,
             "#de77ae"
            ],
            [
             0.3,
             "#f1b6da"
            ],
            [
             0.4,
             "#fde0ef"
            ],
            [
             0.5,
             "#f7f7f7"
            ],
            [
             0.6,
             "#e6f5d0"
            ],
            [
             0.7,
             "#b8e186"
            ],
            [
             0.8,
             "#7fbc41"
            ],
            [
             0.9,
             "#4d9221"
            ],
            [
             1,
             "#276419"
            ]
           ],
           "sequential": [
            [
             0,
             "#0d0887"
            ],
            [
             0.1111111111111111,
             "#46039f"
            ],
            [
             0.2222222222222222,
             "#7201a8"
            ],
            [
             0.3333333333333333,
             "#9c179e"
            ],
            [
             0.4444444444444444,
             "#bd3786"
            ],
            [
             0.5555555555555556,
             "#d8576b"
            ],
            [
             0.6666666666666666,
             "#ed7953"
            ],
            [
             0.7777777777777778,
             "#fb9f3a"
            ],
            [
             0.8888888888888888,
             "#fdca26"
            ],
            [
             1,
             "#f0f921"
            ]
           ],
           "sequentialminus": [
            [
             0,
             "#0d0887"
            ],
            [
             0.1111111111111111,
             "#46039f"
            ],
            [
             0.2222222222222222,
             "#7201a8"
            ],
            [
             0.3333333333333333,
             "#9c179e"
            ],
            [
             0.4444444444444444,
             "#bd3786"
            ],
            [
             0.5555555555555556,
             "#d8576b"
            ],
            [
             0.6666666666666666,
             "#ed7953"
            ],
            [
             0.7777777777777778,
             "#fb9f3a"
            ],
            [
             0.8888888888888888,
             "#fdca26"
            ],
            [
             1,
             "#f0f921"
            ]
           ]
          },
          "colorway": [
           "#636efa",
           "#EF553B",
           "#00cc96",
           "#ab63fa",
           "#FFA15A",
           "#19d3f3",
           "#FF6692",
           "#B6E880",
           "#FF97FF",
           "#FECB52"
          ],
          "font": {
           "color": "#2a3f5f"
          },
          "geo": {
           "bgcolor": "white",
           "lakecolor": "white",
           "landcolor": "#E5ECF6",
           "showlakes": true,
           "showland": true,
           "subunitcolor": "white"
          },
          "hoverlabel": {
           "align": "left"
          },
          "hovermode": "closest",
          "mapbox": {
           "style": "light"
          },
          "paper_bgcolor": "white",
          "plot_bgcolor": "#E5ECF6",
          "polar": {
           "angularaxis": {
            "gridcolor": "white",
            "linecolor": "white",
            "ticks": ""
           },
           "bgcolor": "#E5ECF6",
           "radialaxis": {
            "gridcolor": "white",
            "linecolor": "white",
            "ticks": ""
           }
          },
          "scene": {
           "xaxis": {
            "backgroundcolor": "#E5ECF6",
            "gridcolor": "white",
            "gridwidth": 2,
            "linecolor": "white",
            "showbackground": true,
            "ticks": "",
            "zerolinecolor": "white"
           },
           "yaxis": {
            "backgroundcolor": "#E5ECF6",
            "gridcolor": "white",
            "gridwidth": 2,
            "linecolor": "white",
            "showbackground": true,
            "ticks": "",
            "zerolinecolor": "white"
           },
           "zaxis": {
            "backgroundcolor": "#E5ECF6",
            "gridcolor": "white",
            "gridwidth": 2,
            "linecolor": "white",
            "showbackground": true,
            "ticks": "",
            "zerolinecolor": "white"
           }
          },
          "shapedefaults": {
           "line": {
            "color": "#2a3f5f"
           }
          },
          "ternary": {
           "aaxis": {
            "gridcolor": "white",
            "linecolor": "white",
            "ticks": ""
           },
           "baxis": {
            "gridcolor": "white",
            "linecolor": "white",
            "ticks": ""
           },
           "bgcolor": "#E5ECF6",
           "caxis": {
            "gridcolor": "white",
            "linecolor": "white",
            "ticks": ""
           }
          },
          "title": {
           "x": 0.05
          },
          "xaxis": {
           "automargin": true,
           "gridcolor": "white",
           "linecolor": "white",
           "ticks": "",
           "title": {
            "standoff": 15
           },
           "zerolinecolor": "white",
           "zerolinewidth": 2
          },
          "yaxis": {
           "automargin": true,
           "gridcolor": "white",
           "linecolor": "white",
           "ticks": "",
           "title": {
            "standoff": 15
           },
           "zerolinecolor": "white",
           "zerolinewidth": 2
          }
         }
        },
        "title": {},
        "width": 550,
        "xaxis": {
         "rangeslider": {
          "visible": true
         },
         "ticktext": [
          "Top 1000",
          "Top 3000",
          "Top 5000",
          "Top 7000"
         ],
         "tickvals": [
          1000,
          3000,
          5000,
          7000
         ],
         "title": {
          "text": "Downloads Ranking"
         }
        },
        "yaxis": {
         "range": [
          0,
          0.4
         ],
         "tickformat": ".0%",
         "title": {
          "font": {
           "size": 15
          },
          "text": "Proportion of Section Length<br>to Dataset Card Length"
         }
        }
       }
      }
     },
     "metadata": {},
     "output_type": "display_data"
    }
   ],
   "source": [
    "import pandas as pd\n",
    "import numpy as np\n",
    "import plotly.graph_objs as go\n",
    "from datetime import timedelta\n",
    "\n",
    "datasetcard_section['creation_time'] = datasetcard['dataset_creation_time']\n",
    "datasetcard_section['downloads'] = datasetcard['downloads']\n",
    "\n",
    "section_list = [\n",
    "    'Dataset Description',\n",
    "    'Dataset Structure',\n",
    "    'Dataset Creation',\n",
    "    'Considerations for Using the Data',\n",
    "    'Additional Information',\n",
    "    'Other'\n",
    "]\n",
    "\n",
    "def downloads_filled_out_percentage(df, section_list, start_downloads, end_downloads):\n",
    "    downloads_range = np.linspace(50, len(df), 100)\n",
    "    # print(downloads_range)\n",
    "\n",
    "    \n",
    "    filled_out_percentage = {section: [] for section in section_list}\n",
    "    \n",
    "    for downloads in downloads_range:\n",
    "        # filtered_df = df[df['index'] <= downloads]\n",
    "        for section in section_list:\n",
    "            filled_out_percentage[section].append(df[section.lower()].head(int(downloads))['section_length_proportion'].mean())\n",
    "    \n",
    "    return filled_out_percentage, downloads_range\n",
    "\n",
    "filled_out_percentage, downloads_range = downloads_filled_out_percentage(datasetcard_section, section_list, 100, 10000)\n",
    "\n",
    "fig = go.Figure()\n",
    "\n",
    "for section in section_list:\n",
    "    fig.add_trace(go.Scatter(x=downloads_range, y=filled_out_percentage[section], mode='lines', name=section))\n",
    "\n",
    "fig.update_layout(\n",
    "    title=\"Section Percentage Over Downloads\",\n",
    "    xaxis_title=\"Downloads Ranking\",\n",
    "    yaxis_title=\"Proportion of Section Length<br>to Dataset Card Length\",\n",
    "    legend_title=\"Sections\",\n",
    "    xaxis=dict(rangeslider=dict(visible=True)),\n",
    ")\n",
    "\n",
    "# update x ticks\n",
    "fig.update_xaxes(\n",
    "    ticktext=[\"Top 1000\", \"Top 3000\", \"Top 5000\",\"Top 7000\"],\n",
    "    tickvals=[1000, 3000, 5000, 7000],\n",
    ")\n",
    "# change text to black and bold\n",
    "fig.update_layout(\n",
    "    font=dict(\n",
    "        color=\"black\",\n",
    "        size=14\n",
    "    )\n",
    ")\n",
    "# change figure size\n",
    "fig.update_layout(\n",
    "    autosize=False,\n",
    "    width=550,\n",
    "    height=400,\n",
    "    margin=dict(l=0, r=10, b=0, t=100, pad=0)\n",
    ")\n",
    "# no title\n",
    "fig.update_layout(title_text=None)\n",
    "# update y-axis label size\n",
    "fig.update_layout(\n",
    "    yaxis=dict(\n",
    "        titlefont_size=15,\n",
    "    )\n",
    ")\n",
    "\n",
    "# change legend position and text size and remove the legend title\n",
    "fig.update_layout(\n",
    "    legend=dict(\n",
    "        yanchor=\"bottom\",\n",
    "        y=1.01,\n",
    "        x=-0.01,\n",
    "        font=dict(\n",
    "            size=12\n",
    "        ),\n",
    "        title=None\n",
    "    )\n",
    ")\n",
    "# change the legend to be horizontal\n",
    "fig.update_layout(\n",
    "    legend=dict(\n",
    "        orientation=\"h\",\n",
    "    )\n",
    ")\n",
    "# set y-axis to range from 0 to 0.4\n",
    "fig.update_yaxes(range=[0, 0.4])\n",
    "\n",
    "# update the y-axis ticks to be percentage format, leave 2 decimal places\n",
    "fig.update_yaxes(tickformat=\".0%\")\n",
    "\n",
    "\n",
    "fig.show()\n",
    "# import plotly.io as pio\n",
    "\n",
    "# # Save the figure with a high resolution (dpi=300)\n",
    "# pio.write_image(fig, 'Figure3_change_over_downloads.jpeg', width=550, height=400, scale=10)"
   ]
  },
  {
   "attachments": {},
   "cell_type": "markdown",
   "metadata": {},
   "source": [
    "## Subsection Analysis"
   ]
  },
  {
   "cell_type": "code",
   "execution_count": 17,
   "metadata": {},
   "outputs": [],
   "source": [
    "section_type_dict = {\n",
    "    'dataset description': ['dataset summary', 'supported tasks and leaderboards', 'languages'],\n",
    "    'dataset structure': ['data instances', 'data fields', 'data splits'],\n",
    "    'dataset creation': [\n",
    "                         'curation rationale', 'source data', \n",
    "                         'annotations', \n",
    "                         'personal and sensitive information'],\n",
    "    'considerations for using the data': ['social impact of dataset', 'discussion of biases', 'other known limitations'],\n",
    "    'additional information': ['dataset curators', 'licensing information', 'citation information', 'contributions'],\n",
    "    'other': ['about', 'usage']\n",
    "}"
   ]
  },
  {
   "cell_type": "code",
   "execution_count": 18,
   "metadata": {},
   "outputs": [
    {
     "data": {
      "image/png": "[encoded data removed]",
      "text/plain": [
       "<Figure size 1200x550 with 6 Axes>"
      ]
     },
     "metadata": {
      "image/png": {
       "height": 577,
       "width": 1182
      }
     },
     "output_type": "display_data"
    }
   ],
   "source": [
    "def gather_subsection_filled_out_data(df, label, section):\n",
    "    section_filled_out_data = []\n",
    "\n",
    "    theme_list = section_type_dict[section]\n",
    "\n",
    "\n",
    "    for theme in theme_list:\n",
    "        section_selected = df[section]\n",
    "        section_selected['subsection_title']= section_selected['subsection_title'].apply(lambda x: x.lower() if x is not None else None).values.tolist()\n",
    "        selected = section_selected[section_selected['has_section']==True]\n",
    "        if theme == 'source data':\n",
    "            subtheme_1 = 'initial data collection'\n",
    "            subtheme_2 = 'who are the source language producers'\n",
    "            contain_theme = selected[selected['subsection_title'].str.contains(theme) \\\n",
    "                                        | selected['subsection_title'].str.contains(subtheme_1)\\\n",
    "                                        | selected['subsection_title'].str.contains(subtheme_2)]\n",
    "        elif theme == 'annotations':\n",
    "            subtheme_1 = 'annotation process'\n",
    "            subtheme_2 = 'who are the annotators'\n",
    "            contain_theme = selected[selected['subsection_title'].str.contains(theme) \\\n",
    "                                        | selected['subsection_title'].str.contains(subtheme_1)\\\n",
    "                                        | selected['subsection_title'].str.contains(subtheme_2)]        \n",
    "        else:\n",
    "            contain_theme = selected[selected['subsection_title'].str.contains(theme)]\n",
    "        section_filled_out_data.append({\n",
    "            'label': label,\n",
    "            'section': theme,\n",
    "            'Filled-Out Rate':  len(contain_theme) / len(selected),\n",
    "        })\n",
    "    \n",
    "    return section_filled_out_data\n",
    "\n",
    "\n",
    "def gather_top_n_filled_out_data(df, group_sizes, labels, section):\n",
    "    all_top_n_section_filled_out_data = []\n",
    "    for size, label in zip(group_sizes, labels):\n",
    "        ret = gather_subsection_filled_out_data(df.head(size), label, section)\n",
    "        all_top_n_section_filled_out_data.extend(ret)\n",
    "        \n",
    "    return all_top_n_section_filled_out_data\n",
    "\n",
    "group_sizes = [100, ] #[100, 200, 500, 1000, 2500, 5000]\n",
    "labels = [f'Top {size}' for size in group_sizes] + ['All Dataset Cards']\n",
    "group_sizes.append(None) # For calculating all\n",
    "group_sizes = group_sizes[::-1]\n",
    "labels = labels[::-1]\n",
    "\n",
    "fig, axes = plt.subplots(nrows=2, ncols=3, figsize=(12, 5.5))\n",
    "\n",
    "for i, section in enumerate(section_type_dict):\n",
    "    all_top_n_section_filled_out_data = gather_top_n_filled_out_data(datasetcard_section, group_sizes, labels, section)\n",
    "\n",
    "    df_all_top_n_section_filled_out_data = pd.DataFrame(all_top_n_section_filled_out_data)\n",
    "    # dictionary mapping old names to new names\n",
    "    rename_dict = {\n",
    "        'dataset summary': 'Dataset\\nSummary',\n",
    "        'supported tasks and leaderboards': 'Supported\\nTasks and\\nLeaderboards',\n",
    "        'languages': \"Languages\",\n",
    "        'data instances': \"Data\\nInstances\", \n",
    "        'data fields': \"Data Fields\", \n",
    "        'data splits': \"Data Splits\",\n",
    "        'curation rationale': \"Curation\\nRationale\", \n",
    "        'source data': \"Source Data\", \n",
    "        'annotations': \"Annotations\", \n",
    "        'personal and sensitive information': \"Personal and\\nSensitive\\nInformation\",\n",
    "        'social impact of dataset': \"Social Impact\\nof Dataset\",\n",
    "        'discussion of biases': \"Discussion\\nof Biases\",\n",
    "        'other known limitations': \"Other Known\\nLimitations\",\n",
    "        'dataset curators': \"Dataset\\nCurators\", \n",
    "        'licensing information': \"Licensing\\nInformation\", \n",
    "        'citation information': \"Citation\\nInformation\", \n",
    "        'contributions': \"Contributions\",\n",
    "        'about': \"About\", \n",
    "        'usage': \"Usage\"\n",
    "        }\n",
    "    section_map = {\n",
    "        \"dataset description\": \"Dataset Description\",\n",
    "        \"dataset structure\": \"Dataset Structure\",\n",
    "        \"dataset creation\": \"Dataset Creation\",\n",
    "        \"considerations for using the data\": \"Considerations for Using the Data\",\n",
    "        \"additional information\": \"Additional Information\",\n",
    "        \"other\": \"Other\"\n",
    "    }\n",
    "    df_all_top_n_section_filled_out_data['section'] = df_all_top_n_section_filled_out_data['section'].replace(rename_dict).values.tolist()\n",
    "\n",
    "    ax = sns.barplot(data=df_all_top_n_section_filled_out_data, y='section', x='Filled-Out Rate', hue='label', orient='h', \n",
    "    palette=['#f18d91', '#bad3df'], width=0.7, dodge=0.4, ax=axes[i//3, i%3],\n",
    "    )\n",
    "\n",
    "    ax.set_xlim(right=1.00)\n",
    "    ax.set_ylabel('Subsection')\n",
    "    ax.set_xlabel('')\n",
    "    for item in ([ax.title, ax.xaxis.label, ax.yaxis.label] + ax.get_xticklabels() + ax.get_yticklabels()):\n",
    "        item.set_fontsize(10)\n",
    "\n",
    "    # remove the legend\n",
    "    ax.legend_.remove()\n",
    "\n",
    "    ax.xaxis.set_major_formatter(plt.FuncFormatter(lambda x, _: '{:.0%}'.format(x)))\n",
    "    # set the title of each subplot\n",
    "    ax.set_title(\"Section: \" + section_map[section], fontsize=11)\n",
    "\n",
    "    for p in ax.patches:\n",
    "        color = \"#701011\" if p.get_width() < 0.5 else '#007033'\n",
    "        ax.annotate('{:.1%}'.format( p.get_width() ), (p.get_width(), p.get_y() + p.get_height() / 2.),\n",
    "                    ha='left', va='center', fontsize=10, color=color, xytext=(3, 0),\n",
    "                    textcoords='offset points')\n",
    "\n",
    "handles, labels = ax.get_legend_handles_labels()\n",
    "fig.legend(handles, labels, loc='upper center', bbox_to_anchor=(0.5, 1.06), ncol=3, fontsize=10)\n",
    "\n",
    "plt.tight_layout()\n",
    "# plt.savefig('Figure_subsection.jpeg', dpi=300, bbox_inches='tight')\n"
   ]
  }
 ],
 "metadata": {
  "kernelspec": {
   "display_name": "chatgpt",
   "language": "python",
   "name": "python3"
  },
  "language_info": {
   "codemirror_mode": {
    "name": "ipython",
    "version": 3
   },
   "file_extension": ".py",
   "mimetype": "text/x-python",
   "name": "python",
   "nbconvert_exporter": "python",
   "pygments_lexer": "ipython3",
   "version": "3.10.13"
  },
  "orig_nbformat": 4
 },
 "nbformat": 4,
 "nbformat_minor": 2
}
